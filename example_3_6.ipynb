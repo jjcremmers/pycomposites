{
 "cells": [
  {
   "cell_type": "markdown",
   "metadata": {},
   "source": [
    "This is the Python code of Example 3.5 in the book:\n",
    "\n",
    "FIBER-REINFORCED COMPOSITES\n",
    "Materials, Manufacturing, and Design\n",
    "\n",
    "by: P.K. Mallick (2008) by Taylor & Francis Group, LLC\n",
    "\n",
    "This code:\n",
    "(C) Joris Remmers (2013-2019)"
   ]
  },
  {
   "cell_type": "markdown",
   "metadata": {},
   "source": [
    "## Example 3.6\n",
    "\n",
    "A thin plate is subjected to a biaxial stress field of $\\sigma_{xx}=1\\,$GPa and $\\sigma_{yy}=0.5\\,$GPa. Calculate the strains if the plate is made of (a) steel, (b) a $0^{\\circ}$ unidirectional boron–epoxy composite, and (c) a $45^{\\circ}$ unidirectional boron–epoxy composite."
   ]
  },
  {
   "cell_type": "markdown",
   "metadata": {},
   "source": [
    "## Solution\n",
    "\n",
    "Import the correct functions from the composite module:"
   ]
  },
  {
   "cell_type": "code",
   "execution_count": 17,
   "metadata": {},
   "outputs": [],
   "source": [
    "from composite import TransverseIsotropic,mixMaterials\n",
    "from numpy     import array,dot"
   ]
  },
  {
   "cell_type": "markdown",
   "metadata": {},
   "source": [
    "Steel may be considered as an isotropic material with Young's modulus $E=207\\,$GPa and Poisson's ratio $\\nu=0.33$. Please not that this can be modelled as a transversely Isotropic material, with onlt a single Young's modulus."
   ]
  },
  {
   "cell_type": "code",
   "execution_count": 18,
   "metadata": {},
   "outputs": [
    {
     "name": "stdout",
     "output_type": "stream",
     "text": [
      "  Material Properties:\n",
      "  ---------------------------------\n",
      "  E1   220000000000.0\n",
      "  E2   220000000000.0\n",
      "  nu12 0.2\n",
      "  G12  91700000000.0  a1   0.0\n",
      "  a2   0.0\n"
     ]
    }
   ],
   "source": [
    "carbon = TransverseIsotropic( 220e9,0.2,91.7e9)\n",
    "print(carbon)"
   ]
  },
  {
   "cell_type": "markdown",
   "metadata": {},
   "source": [
    "Boron Epoxy is a composite material with a Young's modulus $E_1=207\\,$GPa; $E_2=19\\,$GPa; a Poisson's ratio $\\nu_{12}=0.21$ and a shear modulus $G_{12}=6.4\\,$GPa. The two elastic moduli are entered as a list."
   ]
  },
  {
   "cell_type": "code",
   "execution_count": 19,
   "metadata": {},
   "outputs": [
    {
     "name": "stdout",
     "output_type": "stream",
     "text": [
      "  Material Properties:\n",
      "  ---------------------------------\n",
      "  E1   3600000000.0\n",
      "  E2   3600000000.0\n",
      "  nu12 0.35\n",
      "  G12  1330000000.0  a1   0.0\n",
      "  a2   0.0\n"
     ]
    }
   ],
   "source": [
    "epoxy  = TransverseIsotropic( 3.6e9,0.35,1.33e9)\n",
    "print(epoxy)"
   ]
  },
  {
   "cell_type": "markdown",
   "metadata": {},
   "source": [
    "The applied stress is introduced as a numpy array:"
   ]
  },
  {
   "cell_type": "code",
   "execution_count": 20,
   "metadata": {},
   "outputs": [
    {
     "name": "stdout",
     "output_type": "stream",
     "text": [
      "  Material Properties:\n",
      "  ---------------------------------\n",
      "  E1   133440000000.0\n",
      "  E2   8784383318.54481\n",
      "  nu12 0.26\n",
      "  G12  3254202465.4463954  a1   0.0\n",
      "  a2   0.0\n"
     ]
    }
   ],
   "source": [
    "compmat = mixMaterials( carbon , epoxy , 0.6 )\n",
    "print(compmat)"
   ]
  },
  {
   "cell_type": "markdown",
   "metadata": {},
   "source": [
    "a) The strain in the steel plate is:"
   ]
  },
  {
   "cell_type": "code",
   "execution_count": 21,
   "metadata": {},
   "outputs": [
    {
     "data": {
      "text/plain": [
       "array([[1.34036479e+11, 2.29414891e+09, 0.00000000e+00],\n",
       "       [2.29414891e+09, 8.82364964e+09, 0.00000000e+00],\n",
       "       [0.00000000e+00, 0.00000000e+00, 3.25420247e+09]])"
      ]
     },
     "execution_count": 21,
     "metadata": {},
     "output_type": "execute_result"
    }
   ],
   "source": [
    "compmat.getQ()"
   ]
  },
  {
   "cell_type": "markdown",
   "metadata": {},
   "source": [
    "b) The strain in the $0^{\\circ}$ unidirectional boron–epoxy composite is:"
   ]
  },
  {
   "cell_type": "code",
   "execution_count": 22,
   "metadata": {},
   "outputs": [
    {
     "data": {
      "text/plain": [
       "array([5.57731866e+10, 6.26064145e+10, 1.56568776e+10, 1.79510265e+10,\n",
       "       1.89110801e+10])"
      ]
     },
     "execution_count": 22,
     "metadata": {},
     "output_type": "execute_result"
    }
   ],
   "source": [
    "compmat.getU()"
   ]
  },
  {
   "cell_type": "markdown",
   "metadata": {},
   "source": [
    "c) The strain in the $45^{\\circ}$ unidirectional boron–epoxy composite is:"
   ]
  },
  {
   "cell_type": "code",
   "execution_count": 23,
   "metadata": {},
   "outputs": [
    {
     "data": {
      "text/plain": [
       "array([[4.01163090e+10, 3.36079041e+10, 3.13032073e+10],\n",
       "       [3.36079041e+10, 4.01163090e+10, 3.13032073e+10],\n",
       "       [3.13032073e+10, 3.13032073e+10, 3.45679576e+10]])"
      ]
     },
     "execution_count": 23,
     "metadata": {},
     "output_type": "execute_result"
    }
   ],
   "source": [
    "compmat.getQbar( 45. )"
   ]
  },
  {
   "cell_type": "code",
   "execution_count": 24,
   "metadata": {},
   "outputs": [
    {
     "data": {
      "text/plain": [
       "array([[ 4.01163090e+10,  3.36079041e+10, -3.13032073e+10],\n",
       "       [ 3.36079041e+10,  4.01163090e+10, -3.13032073e+10],\n",
       "       [-3.13032073e+10, -3.13032073e+10,  3.45679576e+10]])"
      ]
     },
     "execution_count": 24,
     "metadata": {},
     "output_type": "execute_result"
    }
   ],
   "source": [
    "compmat.getQbar( -45. )"
   ]
  }
 ],
 "metadata": {
  "kernelspec": {
   "display_name": "Python 3",
   "language": "python",
   "name": "python3"
  },
  "language_info": {
   "codemirror_mode": {
    "name": "ipython",
    "version": 3
   },
   "file_extension": ".py",
   "mimetype": "text/x-python",
   "name": "python",
   "nbconvert_exporter": "python",
   "pygments_lexer": "ipython3",
   "version": "3.7.3"
  }
 },
 "nbformat": 4,
 "nbformat_minor": 2
}
