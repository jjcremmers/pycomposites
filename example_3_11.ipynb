{
 "cells": [
  {
   "cell_type": "markdown",
   "metadata": {},
   "source": [
    "This is the Python code of Example 3.11 in the book:\n",
    "\n",
    "FIBER-REINFORCED COMPOSITES\n",
    "Materials, Manufacturing, and Design\n",
    "\n",
    "by: P.K. Mallick (2008) by Taylor & Francis Group, LLC\n",
    "\n",
    "This code:\n",
    "(C) Joris Remmers (2013-2019)\n"
   ]
  },
  {
   "cell_type": "markdown",
   "metadata": {},
   "source": [
    "## Example 3.11"
   ]
  },
  {
   "cell_type": "markdown",
   "metadata": {},
   "source": [
    "Determine the apparent elastic properties $E_{xx}$, $E_{yy}$, $\\nu_{xy}$ and $G_{xy}$ as a function of $\\theta$ for a symmetric angle ply laminate [$\\theta / - \\theta /]_s $ , with the same properties as calculated in Example 3.6. "
   ]
  },
  {
   "cell_type": "markdown",
   "metadata": {},
   "source": [
    "## Solution\n",
    "\n",
    "Import the correct functions from the composite module:"
   ]
  },
  {
   "cell_type": "code",
   "execution_count": 1,
   "metadata": {},
   "outputs": [],
   "source": [
    "from composite import TransverseIsotropic,mixMaterials,Laminate\n",
    "from numpy     import array,dot\n",
    "\n",
    "from pylab import plot, show, xlabel, ylabel, legend"
   ]
  },
  {
   "cell_type": "markdown",
   "metadata": {},
   "source": [
    "As demonstrated in Example 3.6, the ply properties can be obtained as: "
   ]
  },
  {
   "cell_type": "code",
   "execution_count": 2,
   "metadata": {},
   "outputs": [
    {
     "name": "stdout",
     "output_type": "stream",
     "text": [
      "Material properties of the composite material:\n",
      "\n",
      "   Elastic Properties:\n",
      "  -----------------------------------------------------------\n",
      "  E1     :     1.334e+11 , E2     :     8.784e+09 \n",
      "  nu12   :          0.26 , G12    :     3.254e+09 \n",
      "\n",
      "  Thermal expansion coefficients:\n",
      "  -----------------------------------------------------------\n",
      "  alpha1 :     0.000e+00 , alpha2 :     0.000e+00 \n",
      " \n",
      "\n"
     ]
    }
   ],
   "source": [
    "carbon = TransverseIsotropic( 220e9,0.2,91.7e9)\n",
    "epoxy  = TransverseIsotropic( 3.6e9,0.35,1.33e9)\n",
    "\n",
    "compmat = mixMaterials( carbon , epoxy , 0.6 )\n",
    "\n",
    "print(\"Material properties of the composite material:\\n\\n\",compmat,\"\\n\")"
   ]
  },
  {
   "cell_type": "markdown",
   "metadata": {},
   "source": [
    "The angle ply layup can be created in a similar way as presented in Example 3.7, but since we're interested in using a large range of ply angles $\\theta$ a for loop is used to do so. \n",
    "\n",
    "Firstly, we initialize an arrays that will be filled inside this loop:"
   ]
  },
  {
   "cell_type": "code",
   "execution_count": 3,
   "metadata": {},
   "outputs": [],
   "source": [
    "total = []"
   ]
  },
  {
   "cell_type": "markdown",
   "metadata": {},
   "source": [
    "Then we create the four layer symmetrical angle ply layup for $\\theta$ ranging from $0^{\\circ}$ to $90^{\\circ}$. We calculate the apparent Elastic properties using the function getElastic and store the results. "
   ]
  },
  {
   "cell_type": "code",
   "execution_count": 4,
   "metadata": {},
   "outputs": [],
   "source": [
    "lam = Laminate()\n",
    "\n",
    "lam.addMaterial( 'composite' , compmat )\n",
    "\n",
    "for theta in range(91):\n",
    "  lam.removeAllLayers()\n",
    "\n",
    "  lam.addLayer( 'composite' , theta , 6e-3 )\n",
    "  lam.addLayer( 'composite' , -theta , 6e-3 )\n",
    "  lam.addLayer( 'composite' , -theta , 6e-3 )\n",
    "  lam.addLayer( 'composite' , theta , 6e-3 )\n",
    "\n",
    "  output = lam.getElastic()\n",
    "\n",
    "  output.append(theta)\n",
    "\n",
    "  total.append(output)"
   ]
  },
  {
   "cell_type": "markdown",
   "metadata": {},
   "source": [
    "Lastly we plot the apparent elastic properties $E_{xx}$, $E_{yy}$, $\\nu_{xy}$ and $G_{xy}$ as a function of $\\theta$ in a single graph."
   ]
  },
  {
   "cell_type": "code",
   "execution_count": 5,
   "metadata": {},
   "outputs": [
    {
     "data": {
      "image/png": "[encoded data removed]",
      "text/plain": [
       "<Figure size 432x288 with 1 Axes>"
      ]
     },
     "metadata": {
      "needs_background": "light"
     },
     "output_type": "display_data"
    }
   ],
   "source": [
    "plot( [x[4] for x in total], [x[0] for x in total], 'r-' ,label='$E_x$')\n",
    "plot( [x[4] for x in total], [x[1] for x in total], 'b-', label='$E_y$' )\n",
    "plot( [x[4] for x in total], [x[3] for x in total], 'g-' ,label='$G_{xy}$')\n",
    "plot( [x[4] for x in total], [x[2]*5e10 for x in total], 'k--' ,label=' $\\\\nu_{xy} \\cdot 10^{10}$')\n",
    "legend()\n",
    "xlabel('$\\\\theta [{}^{\\circ}]$') \n",
    "ylabel('Modulus [Pa]') \n",
    "\n",
    "show()"
   ]
  },
  {
   "cell_type": "markdown",
   "metadata": {},
   "source": [
    "This procedure can be repeated for the [+45/-45]S symmetric, and \n",
    " [+45/0/-45] unsymmetric laminate:"
   ]
  },
  {
   "cell_type": "code",
   "execution_count": null,
   "metadata": {},
   "outputs": [],
   "source": []
  },
  {
   "cell_type": "code",
   "execution_count": null,
   "metadata": {},
   "outputs": [],
   "source": []
  }
 ],
 "metadata": {
  "kernelspec": {
   "display_name": "Python 3",
   "language": "python",
   "name": "python3"
  },
  "language_info": {
   "codemirror_mode": {
    "name": "ipython",
    "version": 3
   },
   "file_extension": ".py",
   "mimetype": "text/x-python",
   "name": "python",
   "nbconvert_exporter": "python",
   "pygments_lexer": "ipython3",
   "version": "3.7.3"
  }
 },
 "nbformat": 4,
 "nbformat_minor": 2
}
