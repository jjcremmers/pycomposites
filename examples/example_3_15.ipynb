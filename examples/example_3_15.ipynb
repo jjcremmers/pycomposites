{
 "cells": [
  {
   "cell_type": "markdown",
   "metadata": {},
   "source": [
    "This is the Python code of Example 3.15 in the book:\n",
    "\n",
    "FIBER-REINFORCED COMPOSITES\n",
    "Materials, Manufacturing, and Design\n",
    "\n",
    "by: P.K. Mallick (2008) by Taylor & Francis Group, LLC\n",
    "\n",
    "This code:\n",
    "(C) Joris Remmers (2013-2019)\n"
   ]
  },
  {
   "cell_type": "markdown",
   "metadata": {},
   "source": [
    "## Example 3.13"
   ]
  },
  {
   "cell_type": "markdown",
   "metadata": {},
   "source": [
    "Determine the curvatures of a two-layer unsymmetric $\\lbrack 0/90\\rbrack$ laminate after it\n",
    "is cooled from the curing temperature to the room temperature. The material is\n",
    "T-300 carbon fiber in an epoxy matrix for which $\\alpha_{11}=-0.5\\times10^6$ m/m per $^{\\circ}$C \n",
    "$\\alpha_{22}=12\\times10^6$ m/m per $^{\\circ}$C. Other material properties are the same as those\n",
    "in Example 3.6. The thickness of each layer is $t=1$\\,mm, and the temperature drop is $\\Delta T=-100^{\\circ}$C."
   ]
  },
  {
   "cell_type": "markdown",
   "metadata": {},
   "source": [
    "## Solution\n",
    "\n",
    "Import the correct functions from the composite module and required mathermatical operators:"
   ]
  },
  {
   "cell_type": "code",
   "execution_count": 1,
   "metadata": {},
   "outputs": [],
   "source": [
    "from composite    import TransverseIsotropic,mixMaterials,Laminate,stressTransformation\n",
    "from numpy        import array,dot,zeros\n",
    "from numpy.linalg import inv"
   ]
  },
  {
   "cell_type": "markdown",
   "metadata": {},
   "source": [
    "As demonstrated in Example 3.6 and 3.7, the ply properties and laminate can be obtained as: "
   ]
  },
  {
   "cell_type": "code",
   "execution_count": 10,
   "metadata": {},
   "outputs": [
    {
     "name": "stdout",
     "output_type": "stream",
     "text": [
      "  Elastic Properties:\n",
      "  -----------------------------------------------------------\n",
      "  E1     :     1.334e+11 , E2     :     8.784e+09 \n",
      "  nu12   :          0.26 , G12    :     3.254e+09 \n",
      "\n",
      "  Thermal expansion coefficients:\n",
      "  -----------------------------------------------------------\n",
      "  alpha1 :    -5.000e-07 , alpha2 :     1.200e-05 \n",
      "\n",
      "  Laminate properties\n",
      "  -----------------------------------------------------------\n",
      "  layer   thick orient.  material\n",
      "  -----------------------------------------------------------\n",
      "      0   0.001      0   composite\n",
      "      1   0.001     90   composite\n",
      "\n"
     ]
    }
   ],
   "source": [
    "compmat = TransverseIsotropic( [133.4e9,8.784e9],0.26,3.254e9,[-0.5e-6,12e-6])\n",
    "\n",
    "print(compmat)\n",
    "\n",
    "\n",
    "lam = Laminate()\n",
    "\n",
    "lam.addMaterial( 'composite' , compmat )\n",
    "\n",
    "lam.addLayer( 'composite' , 0 , 1e-3 )\n",
    "lam.addLayer( 'composite' , 90 , 1e-3 )\n",
    "\n",
    "print(lam)"
   ]
  },
  {
   "cell_type": "markdown",
   "metadata": {},
   "source": [
    "The Qbar matrices of both layers are:"
   ]
  },
  {
   "cell_type": "code",
   "execution_count": 11,
   "metadata": {},
   "outputs": [
    {
     "name": "stdout",
     "output_type": "stream",
     "text": [
      "The matrix Q0 : \n",
      " [[1.33996453e+11 2.29405142e+09 0.00000000e+00]\n",
      " [2.29405142e+09 8.82327471e+09 0.00000000e+00]\n",
      " [0.00000000e+00 0.00000000e+00 3.25400000e+09]] \n",
      "\n",
      "The matrix Q90: \n",
      " [[ 8.82327471e+09  2.29405142e+09 -1.29955146e-09]\n",
      " [ 2.29405142e+09  1.33996453e+11  7.66594618e-06]\n",
      " [-1.29955146e-09  7.66594618e-06  3.25400000e+09]] \n",
      "\n"
     ]
    }
   ],
   "source": [
    "Q0  = compmat.getQbar(0)\n",
    "Q90 = compmat.getQbar(90)\n",
    "\n",
    "print(\"The matrix Q0 : \\n\",Q0,\"\\n\")\n",
    "print(\"The matrix Q90: \\n\",Q90,\"\\n\")"
   ]
  },
  {
   "cell_type": "code",
   "execution_count": 12,
   "metadata": {},
   "outputs": [
    {
     "name": "stdout",
     "output_type": "stream",
     "text": [
      "The matrix A  : \n",
      " [[ 1.42819728e+08  4.58810285e+06 -1.29955146e-12]\n",
      " [ 4.58810285e+06  1.42819728e+08  7.66594618e-09]\n",
      " [-1.29955146e-12  7.66594618e-09  6.50800000e+06]] \n",
      "\n",
      "The matrix B  : \n",
      " [[-6.25865893e+04  0.00000000e+00 -6.49775729e-16]\n",
      " [ 0.00000000e+00  6.25865893e+04  3.83297309e-12]\n",
      " [-6.49775729e-16  3.83297309e-12  0.00000000e+00]] \n",
      "\n",
      "The matrix D  : \n",
      " [[ 4.76065760e+01  1.52936762e+00 -4.33183819e-19]\n",
      " [ 1.52936762e+00  4.76065760e+01  2.55531539e-15]\n",
      " [-4.33183819e-19  2.55531539e-15  2.16933333e+00]] \n",
      "\n"
     ]
    }
   ],
   "source": [
    "A   = lam.getA()\n",
    "B   = lam.getB()\n",
    "D   = lam.getD()\n",
    "\n",
    "print(\"The matrix A  : \\n\",A,\"\\n\")\n",
    "print(\"The matrix B  : \\n\",B,\"\\n\")\n",
    "print(\"The matrix D  : \\n\",D,\"\\n\")"
   ]
  },
  {
   "cell_type": "markdown",
   "metadata": {},
   "source": [
    "Now Ts and Tss can be calculated:"
   ]
  },
  {
   "cell_type": "code",
   "execution_count": 13,
   "metadata": {},
   "outputs": [
    {
     "name": "stdout",
     "output_type": "stream",
     "text": [
      "The vector Ts  : \n",
      " [ 6.52626612e+01  6.52626612e+01 -8.82981856e-15] \n",
      "\n",
      "The vector Tss : \n",
      " [ 7.21009402e-02 -7.21009402e-02 -4.41490928e-18] \n",
      "\n"
     ]
    }
   ],
   "source": [
    "Ts  = lam.getTs()\n",
    "Tss = lam.getTss()\n",
    "\n",
    "print(\"The vector Ts  : \\n\",Ts,\"\\n\")\n",
    "print(\"The vector Tss : \\n\",Tss,\"\\n\")"
   ]
  },
  {
   "cell_type": "markdown",
   "metadata": {},
   "source": [
    "Calculating the matrices C1 and D1, we obtain"
   ]
  },
  {
   "cell_type": "code",
   "execution_count": 16,
   "metadata": {},
   "outputs": [
    {
     "name": "stdout",
     "output_type": "stream",
     "text": [
      "[-5.11739221e-01  5.11739221e-01  6.26699799e-17]\n"
     ]
    }
   ],
   "source": [
    "A1,B1,C1,D1 = lam.getInverseMatrices()\n",
    "\n",
    "kappa = -100*(dot(C1,Ts)+dot(D1,Tss))  # -100 degrees difference\n",
    "\n",
    "print(kappa)"
   ]
  }
 ],
 "metadata": {
  "kernelspec": {
   "display_name": "Python 3",
   "language": "python",
   "name": "python3"
  },
  "language_info": {
   "codemirror_mode": {
    "name": "ipython",
    "version": 3
   },
   "file_extension": ".py",
   "mimetype": "text/x-python",
   "name": "python",
   "nbconvert_exporter": "python",
   "pygments_lexer": "ipython3",
   "version": "3.7.3"
  }
 },
 "nbformat": 4,
 "nbformat_minor": 2
}
