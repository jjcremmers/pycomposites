{
 "cells": [
  {
   "cell_type": "markdown",
   "metadata": {},
   "source": [
    "This is the Python code is based on the examples in Chapter 3 of the book:\n",
    "\n",
    "FIBER-REINFORCED COMPOSITES\n",
    "Materials, Manufacturing, and Design\n",
    "by: P.K. Mallick (2008) by Taylor & Francis Group, LLC\n",
    "\n",
    "and is discussed during the lecture on classical laminate theory in the course:\n",
    "\n",
    "Composite and Lightweight Materials (4MM00)\n",
    "\n",
    "at Eindhoven University of Technology\n",
    "\n",
    "This code:\n",
    "(C) Joris Remmers (2013-2023)"
   ]
  },
  {
   "cell_type": "markdown",
   "metadata": {},
   "source": [
    "## Example 2 (Classical Laminate Theory)\n",
    "\n",
    "Consider a fibre reinforced plastic that consists of uni-directional carbon fibres embedded in an epoxy matrix. \n",
    "The fibre volume fraction $V_f=0.6$. The properties of the transverse isoptric fibre are: $E_{\\rm fL} = 220\\,$GPa ; \n",
    "$E_{\\rm fT} = 20\\,$GPa ; $\\nu_{\\rm f} = 0.2$ ; $G_{\\rm f} = 91.7\\,$GPa.\n",
    "\n",
    "The properties of the isotropic epoxy matrix are $E_{\\rm m} = 3.6\\,$GPa ; $\\nu_{\\rm f} = 0.35$ ; \n",
    "$G_{\\rm f} = 1.33\\,$GPa.\n",
    "\n",
    "Determine the ${\\bf Q}$ matrix of this material and the matrices ${\\bf \\bar Q}(20)$ and  ${\\bf \\bar Q}(-20)$. Evaluate the results.\n"
   ]
  },
  {
   "cell_type": "markdown",
   "metadata": {},
   "source": [
    "## Solution"
   ]
  },
  {
   "cell_type": "code",
   "execution_count": 13,
   "metadata": {
    "ExecuteTime": {
     "end_time": "2022-09-25T17:26:39.890088Z",
     "start_time": "2022-09-25T17:26:39.885738Z"
    }
   },
   "outputs": [],
   "source": [
    "from composite import TransverseIsotropic,mixMaterials"
   ]
  },
  {
   "cell_type": "markdown",
   "metadata": {},
   "source": [
    "For this carbon fiber composite material, the carbon fibers and the epoxy matrix are modeled as separate transversely isotropic materials. The T-300 carbon fibers have Young's Moduli $E_1=220\\,$GPa,  $E_2=22\\,$GPa, a Poisson's ratio $\\nu_{12}=0.2$ and a Shear Modulus $G_{12}=91.7\\,$GPa. The epoxy matrix may be considered isotropic with Young's modulus $E=3.6\\,$GPa, Poisson's ratio $\\nu=0.35$ and Shear Modulus $G_{12}=1.33\\,$GPa. "
   ]
  },
  {
   "cell_type": "code",
   "execution_count": 24,
   "metadata": {
    "ExecuteTime": {
     "end_time": "2022-09-25T17:26:40.461787Z",
     "start_time": "2022-09-25T17:26:40.459211Z"
    }
   },
   "outputs": [],
   "source": [
    "carbon = TransverseIsotropic( [220e9,22e9],0.2,91.7e9)\n",
    "epoxy  = TransverseIsotropic( 3.6e9,0.35,1.33e9)"
   ]
  },
  {
   "cell_type": "markdown",
   "metadata": {},
   "source": [
    "The properties of carbon and epoxy are:"
   ]
  },
  {
   "cell_type": "code",
   "execution_count": 20,
   "metadata": {
    "ExecuteTime": {
     "end_time": "2022-09-25T17:26:41.659119Z",
     "start_time": "2022-09-25T17:26:41.654760Z"
    }
   },
   "outputs": [
    {
     "name": "stdout",
     "output_type": "stream",
     "text": [
      "\n",
      "  Elastic Properties:\n",
      "  -----------------------------------------------------------\n",
      "  E1     :     2.200e+11 , E2     :     2.200e+11 \n",
      "  nu12   :          0.20 , G12    :     9.170e+10 \n",
      "\n",
      "  Thermal expansion coefficients:\n",
      "  -----------------------------------------------------------\n",
      "  alpha1 :     0.000e+00 , alpha2 :     0.000e+00 \n",
      "\n",
      "\n",
      "  Elastic Properties:\n",
      "  -----------------------------------------------------------\n",
      "  E1     :     3.600e+09 , E2     :     3.600e+09 \n",
      "  nu12   :          0.35 , G12    :     1.330e+09 \n",
      "\n",
      "  Thermal expansion coefficients:\n",
      "  -----------------------------------------------------------\n",
      "  alpha1 :     0.000e+00 , alpha2 :     0.000e+00 \n",
      "\n"
     ]
    }
   ],
   "source": [
    "print(carbon)\n",
    "print(epoxy)"
   ]
  },
  {
   "cell_type": "markdown",
   "metadata": {},
   "source": [
    "The composite consists of 60\\% fibres and 40\\% epoxy. The properties of the composite can be calculated by simple homogensiation."
   ]
  },
  {
   "cell_type": "code",
   "execution_count": 21,
   "metadata": {
    "ExecuteTime": {
     "end_time": "2022-09-25T17:26:45.389684Z",
     "start_time": "2022-09-25T17:26:45.386635Z"
    }
   },
   "outputs": [],
   "source": [
    "udcomp = mixMaterials( carbon , epoxy , 0.6 )\n",
    "    "
   ]
  },
  {
   "cell_type": "markdown",
   "metadata": {
    "ExecuteTime": {
     "end_time": "2022-09-25T17:26:20.338488Z",
     "start_time": "2022-09-25T17:26:20.333449Z"
    }
   },
   "source": [
    "The properties of the UD material are:  "
   ]
  },
  {
   "cell_type": "code",
   "execution_count": 22,
   "metadata": {
    "ExecuteTime": {
     "end_time": "2022-09-25T17:26:47.223439Z",
     "start_time": "2022-09-25T17:26:47.218923Z"
    }
   },
   "outputs": [
    {
     "name": "stdout",
     "output_type": "stream",
     "text": [
      "\n",
      "  Elastic Properties:\n",
      "  -----------------------------------------------------------\n",
      "  E1     :     1.334e+11 , E2     :     8.784e+09 \n",
      "  nu12   :          0.26 , G12    :     3.254e+09 \n",
      "\n",
      "  Thermal expansion coefficients:\n",
      "  -----------------------------------------------------------\n",
      "  alpha1 :     0.000e+00 , alpha2 :     0.000e+00 \n",
      "\n"
     ]
    }
   ],
   "source": [
    "print(udcomp) "
   ]
  },
  {
   "cell_type": "markdown",
   "metadata": {},
   "source": [
    "The stiffness matrix ${\\bf Q}$ and the rotated matrices can be calculated using the equations in the book by Mallick."
   ]
  },
  {
   "cell_type": "code",
   "execution_count": 23,
   "metadata": {
    "ExecuteTime": {
     "end_time": "2022-09-25T17:29:15.833261Z",
     "start_time": "2022-09-25T17:29:15.829201Z"
    }
   },
   "outputs": [
    {
     "name": "stdout",
     "output_type": "stream",
     "text": [
      "The Q matrix of the composite is:\n",
      "\n",
      " [[1.34036479e+11 2.29414891e+09 0.00000000e+00]\n",
      " [2.29414891e+09 8.82364964e+09 0.00000000e+00]\n",
      " [0.00000000e+00 0.00000000e+00 3.25420247e+09]] \n",
      "\n"
     ]
    }
   ],
   "source": [
    "Q = udcomp.getQ()\n",
    "print(\"The Q matrix of the composite is:\\n\\n\",Q,\"\\n\")"
   ]
  },
  {
   "cell_type": "code",
   "execution_count": 10,
   "metadata": {
    "ExecuteTime": {
     "end_time": "2022-09-25T17:29:25.520794Z",
     "start_time": "2022-09-25T17:29:25.515136Z"
    }
   },
   "outputs": [
    {
     "name": "stdout",
     "output_type": "stream",
     "text": [
      "The Q matrix of the composite under an angle of 20 degrees is:\n",
      "\n",
      " [[1.06262605e+11 1.47349731e+10 3.56698011e+10]\n",
      " [1.47349731e+10 9.22203891e+09 5.04355063e+09]\n",
      " [3.56698011e+10 5.04355063e+09 1.61034402e+10]] \n",
      "\n"
     ]
    }
   ],
   "source": [
    "Qbar = udcomp.getQbar( 20.0 )\n",
    "\n",
    "print(\"The Q matrix of the composite under an angle of 20 degrees is:\\n\\n\",\n",
    "         Qbar,\"\\n\")"
   ]
  },
  {
   "cell_type": "code",
   "execution_count": 12,
   "metadata": {
    "ExecuteTime": {
     "end_time": "2022-09-25T17:29:30.585561Z",
     "start_time": "2022-09-25T17:29:30.581045Z"
    }
   },
   "outputs": [
    {
     "name": "stdout",
     "output_type": "stream",
     "text": [
      "The Q matrix of the composite under an angle of minus 20 degrees is:\n",
      "\n",
      " [[ 1.06262605e+11  1.47349731e+10 -3.56698011e+10]\n",
      " [ 1.47349731e+10  9.22203891e+09 -5.04355063e+09]\n",
      " [-3.56698011e+10 -5.04355063e+09  1.61034402e+10]] \n",
      "\n"
     ]
    }
   ],
   "source": [
    "Qbar = udcomp.getQbar( -20.0 )\n",
    "\n",
    "print(\"The Q matrix of the composite under an angle of minus 20 degrees is:\\n\\n\",\n",
    "         Qbar,\"\\n\")"
   ]
  },
  {
   "cell_type": "markdown",
   "metadata": {},
   "source": [
    "Note that the 11, 12, 21, 22 and 66 terms of the ${\\bf Q}_{20}$ matrix are identical to the terms in the ${\\bf Q}_{-20}$ matrix. The 16 and 26 terms of these matrices have switched signs."
   ]
  },
  {
   "cell_type": "code",
   "execution_count": null,
   "metadata": {},
   "outputs": [],
   "source": []
  }
 ],
 "metadata": {
  "author": "Joris",
  "kernelspec": {
   "display_name": "Python 3 (ipykernel)",
   "language": "python",
   "name": "python3"
  },
  "language_info": {
   "codemirror_mode": {
    "name": "ipython",
    "version": 3
   },
   "file_extension": ".py",
   "mimetype": "text/x-python",
   "name": "python",
   "nbconvert_exporter": "python",
   "pygments_lexer": "ipython3",
   "version": "3.10.12"
  },
  "latex_envs": {
   "LaTeX_envs_menu_present": true,
   "autoclose": false,
   "autocomplete": true,
   "bibliofile": "biblio.bib",
   "cite_by": "apalike",
   "current_citInitial": 1,
   "eqLabelWithNumbers": true,
   "eqNumInitial": 1,
   "hotkeys": {
    "equation": "Ctrl-E",
    "itemize": "Ctrl-I"
   },
   "labels_anchors": false,
   "latex_user_defs": false,
   "report_style_numbering": false,
   "user_envs_cfg": false
  },
  "toc": {
   "base_numbering": 1,
   "nav_menu": {},
   "number_sections": true,
   "sideBar": true,
   "skip_h1_title": false,
   "title_cell": "Table of Contents",
   "title_sidebar": "Contents",
   "toc_cell": false,
   "toc_position": {},
   "toc_section_display": true,
   "toc_window_display": false
  },
  "varInspector": {
   "cols": {
    "lenName": 16,
    "lenType": 16,
    "lenVar": 40
   },
   "kernels_config": {
    "python": {
     "delete_cmd_postfix": "",
     "delete_cmd_prefix": "del ",
     "library": "var_list.py",
     "varRefreshCmd": "print(var_dic_list())"
    },
    "r": {
     "delete_cmd_postfix": ") ",
     "delete_cmd_prefix": "rm(",
     "library": "var_list.r",
     "varRefreshCmd": "cat(var_dic_list()) "
    }
   },
   "types_to_exclude": [
    "module",
    "function",
    "builtin_function_or_method",
    "instance",
    "_Feature"
   ],
   "window_display": false
  }
 },
 "nbformat": 4,
 "nbformat_minor": 4
}
