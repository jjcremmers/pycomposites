{
 "cells": [
  {
   "cell_type": "markdown",
   "metadata": {},
   "source": [
    "This is the Python code is based on Example 3.6 of the book:\n",
    "\n",
    "FIBER-REINFORCED COMPOSITES\n",
    "Materials, Manufacturing, and Design\n",
    "by: P.K. Mallick (2008) by Taylor & Francis Group, LLC\n",
    "\n",
    "and is discussed during the lecture on classical laminate theory in the course:\n",
    "\n",
    "Composite and Lightweight Materials (4MM00)\n",
    "\n",
    "at Eindhoven University of Technology\n",
    "\n",
    "This code:\n",
    "(C) Joris Remmers (2013-2023)"
   ]
  },
  {
   "cell_type": "markdown",
   "metadata": {},
   "source": [
    "## Example 1 (Classical Laminate Theory)\n",
    "\n",
    "Consider a fibre reinforced plastic that consists of uni-directional carbon fibres embedded in an epoxy matrix. The fibre volume fraction $V_f=0.6$. The properties of the transverse isoptric fibre are: $E_{\\rm fL} = 220\\,$GPa ; $E_{\\rm fT} = 20\\,$GPa ; $\\nu_{\\rm f} = 0.2$ ; $G_{\\rm f} = 91.7\\,$GPa.\n",
    "\n",
    "The properties of the isotropic epoxy matrix are $E_{\\rm m} = 3.6\\,$GPa ; $\\nu_{\\rm f} = 0.35$ ; $G_{\\rm f} = 1.33\\,$GPa.\n",
    "\n",
    "Determine the homogenised properties of the composite.\n",
    "\n"
   ]
  },
  {
   "cell_type": "markdown",
   "metadata": {},
   "source": [
    "## Solution\n",
    "\n",
    "Import the functions TransverseIstropic and mixMaterials from the composite module."
   ]
  },
  {
   "cell_type": "code",
   "execution_count": 1,
   "metadata": {},
   "outputs": [],
   "source": [
    "from composite import TransverseIsotropic,mixMaterials"
   ]
  },
  {
   "cell_type": "markdown",
   "metadata": {},
   "source": [
    "Create two materials, carbon and epoxy with the correct properties. Note that carbon is transversely isotropic and epoxy is isotropic."
   ]
  },
  {
   "cell_type": "code",
   "execution_count": 8,
   "metadata": {},
   "outputs": [],
   "source": [
    "carbon = TransverseIsotropic( [220e9,22e9],0.2,91.7e9)\n",
    "epoxy  = TransverseIsotropic( 3.6e9,0.35,1.33e9)"
   ]
  },
  {
   "cell_type": "code",
   "execution_count": 9,
   "metadata": {},
   "outputs": [
    {
     "name": "stdout",
     "output_type": "stream",
     "text": [
      "The properties of carbon are:\n",
      " \n",
      "  Elastic Properties:\n",
      "  -----------------------------------------------------------\n",
      "  E1     :     2.200e+11 , E2     :     2.200e+10 \n",
      "  nu12   :          0.20 , G12    :     9.170e+10 \n",
      "\n",
      "  Thermal expansion coefficients:\n",
      "  -----------------------------------------------------------\n",
      "  alpha1 :     0.000e+00 , alpha2 :     0.000e+00 \n",
      "\n",
      "The properties of epoxy are:\n",
      " \n",
      "  Elastic Properties:\n",
      "  -----------------------------------------------------------\n",
      "  E1     :     3.600e+09 , E2     :     3.600e+09 \n",
      "  nu12   :          0.35 , G12    :     1.330e+09 \n",
      "\n",
      "  Thermal expansion coefficients:\n",
      "  -----------------------------------------------------------\n",
      "  alpha1 :     0.000e+00 , alpha2 :     0.000e+00 \n",
      "\n"
     ]
    }
   ],
   "source": [
    "print(\"The properties of carbon are:\\n\",carbon)\n",
    "print(\"The properties of epoxy are:\\n\",epoxy)"
   ]
  },
  {
   "cell_type": "markdown",
   "metadata": {},
   "source": [
    "The properties of the composites can be calculated using the mixMaterials function, which has the two materials and the volume faction as an input."
   ]
  },
  {
   "cell_type": "code",
   "execution_count": 10,
   "metadata": {
    "scrolled": true
   },
   "outputs": [
    {
     "name": "stdout",
     "output_type": "stream",
     "text": [
      "Material properties of the composite material:\n",
      "\n",
      " \n",
      "  Elastic Properties:\n",
      "  -----------------------------------------------------------\n",
      "  E1     :     1.334e+11 , E2     :     7.226e+09 \n",
      "  nu12   :          0.26 , G12    :     3.254e+09 \n",
      "\n",
      "  Thermal expansion coefficients:\n",
      "  -----------------------------------------------------------\n",
      "  alpha1 :     0.000e+00 , alpha2 :     0.000e+00 \n",
      " \n",
      "\n"
     ]
    }
   ],
   "source": [
    "udcomp = mixMaterials( carbon , epoxy , 0.6 )\n",
    "\n",
    "print(\"Material properties of the composite material:\\n\\n\",udcomp,\"\\n\")"
   ]
  }
 ],
 "metadata": {
  "kernelspec": {
   "display_name": "Python 3 (ipykernel)",
   "language": "python",
   "name": "python3"
  },
  "language_info": {
   "codemirror_mode": {
    "name": "ipython",
    "version": 3
   },
   "file_extension": ".py",
   "mimetype": "text/x-python",
   "name": "python",
   "nbconvert_exporter": "python",
   "pygments_lexer": "ipython3",
   "version": "3.10.12"
  }
 },
 "nbformat": 4,
 "nbformat_minor": 2
}
