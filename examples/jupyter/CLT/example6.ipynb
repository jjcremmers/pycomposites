{
 "cells": [
  {
   "cell_type": "markdown",
   "metadata": {},
   "source": [
    "This is the Python code is based on the examples in Chapter 3 of the book:\n",
    "\n",
    "FIBER-REINFORCED COMPOSITES\n",
    "Materials, Manufacturing, and Design\n",
    "by: P.K. Mallick (2008) by Taylor & Francis Group, LLC\n",
    "\n",
    "and is discussed during the lecture on classical laminate theory in the course:\n",
    "\n",
    "Composite and Lightweight Materials (4MM00)\n",
    "\n",
    "at Eindhoven University of Technology\n",
    "\n",
    "This code:\n",
    "(C) Joris Remmers (2013-2023)"
   ]
  },
  {
   "cell_type": "markdown",
   "metadata": {},
   "source": [
    "## Example 6 (Classical Laminate Theory)\n",
    "\n",
    "Consider a fibre reinforced plastic that consists of uni-directional carbon fibres embedded in an epoxy matrix. \n",
    "The fibre volume fraction $V_f=0.6$. The properties of the transverse isoptric fibre are: $E_{\\rm fL} = 220\\,$GPa ; \n",
    "$E_{\\rm fT} = 20\\,$GPa ; $\\nu_{\\rm f} = 0.2$ ; $G_{\\rm f} = 91.7\\,$GPa.\n",
    "\n",
    "The properties of the isotropic epoxy matrix are $E_{\\rm m} = 3.6\\,$GPa ; $\\nu_{\\rm f} = 0.35$ ; \n",
    "$G_{\\rm f} = 1.33\\,$GPa.\n",
    "\n",
    "The resulting UD composite material is used in a two-layer unsymmetric $\\lbrack 0 / 90\\rbrack$ laminate where each layer has a thickness of $6\\,$mm. Determine the curvatures of of this laminate when it is cooled down with a temperature drop $-100^{\\circ}$\\,C. Use $\\alpha_{11}=-0.5\\cdot 10^{-6}$ and $\\alpha_{22}=12\\cdot 10^{-6}$\\,m/m per $^{\\circ}$C as the thermal expansion coefficient of a single layer."
   ]
  },
  {
   "cell_type": "markdown",
   "metadata": {},
   "source": [
    "## Solution"
   ]
  },
  {
   "cell_type": "code",
   "execution_count": 7,
   "metadata": {
    "ExecuteTime": {
     "end_time": "2022-09-25T17:49:54.925742Z",
     "start_time": "2022-09-25T17:49:54.490871Z"
    }
   },
   "outputs": [],
   "source": [
    "from composite import TransverseIsotropic,mixMaterials,Laminate"
   ]
  },
  {
   "cell_type": "markdown",
   "metadata": {},
   "source": [
    "For this carbon fiber composite material, the carbon fibers and the epoxy matrix are modeled as separate transversely isotropic materials. The T-300 carbon fibers have Young's Moduli $E_1=220\\,$GPa,  $E_2=22\\,$GPa, a Poisson's ratio $\\nu_{12}=0.2$ and a Shear Modulus $G_{12}=91.7\\,$GPa. The epoxy matrix may be considered isotropic with Young's modulus $E=3.6\\,$GPa, Poisson's ratio $\\nu=0.35$ and Shear Modulus $G_{12}=1.33\\,$GPa. "
   ]
  },
  {
   "cell_type": "code",
   "execution_count": 8,
   "metadata": {
    "ExecuteTime": {
     "end_time": "2022-09-25T17:53:20.730144Z",
     "start_time": "2022-09-25T17:53:20.726515Z"
    }
   },
   "outputs": [],
   "source": [
    "carbon = TransverseIsotropic( [220e9,22e9],0.2,91.7e9)\n",
    "epoxy  = TransverseIsotropic( 3.6e9,0.35,1.33e9)"
   ]
  },
  {
   "cell_type": "markdown",
   "metadata": {},
   "source": [
    "The properties of carbon and epoxy are:"
   ]
  },
  {
   "cell_type": "code",
   "execution_count": 9,
   "metadata": {
    "ExecuteTime": {
     "end_time": "2022-09-25T17:53:21.412723Z",
     "start_time": "2022-09-25T17:53:21.408386Z"
    }
   },
   "outputs": [
    {
     "name": "stdout",
     "output_type": "stream",
     "text": [
      "\n",
      "  Elastic Properties:\n",
      "  -----------------------------------------------------------\n",
      "  E1     :     2.200e+11 , E2     :     2.200e+10 \n",
      "  nu12   :          0.20 , G12    :     9.170e+10 \n",
      "\n",
      "  Thermal expansion coefficients:\n",
      "  -----------------------------------------------------------\n",
      "  alpha1 :     0.000e+00 , alpha2 :     0.000e+00 \n",
      "\n",
      "\n",
      "  Elastic Properties:\n",
      "  -----------------------------------------------------------\n",
      "  E1     :     3.600e+09 , E2     :     3.600e+09 \n",
      "  nu12   :          0.35 , G12    :     1.330e+09 \n",
      "\n",
      "  Thermal expansion coefficients:\n",
      "  -----------------------------------------------------------\n",
      "  alpha1 :     0.000e+00 , alpha2 :     0.000e+00 \n",
      "\n"
     ]
    }
   ],
   "source": [
    "print(carbon)\n",
    "print(epoxy)"
   ]
  },
  {
   "cell_type": "markdown",
   "metadata": {},
   "source": [
    "The composite consists of 60\\% fibres and 40\\% epoxy. The properties of the composite can be calculated by simple homogensiation."
   ]
  },
  {
   "cell_type": "code",
   "execution_count": 10,
   "metadata": {
    "ExecuteTime": {
     "end_time": "2022-09-25T17:53:22.329454Z",
     "start_time": "2022-09-25T17:53:22.326343Z"
    }
   },
   "outputs": [],
   "source": [
    "udcomp = mixMaterials( carbon , epoxy , 0.6 )\n",
    "    "
   ]
  },
  {
   "cell_type": "markdown",
   "metadata": {},
   "source": [
    "Store the thermal expension coefficient of the material"
   ]
  },
  {
   "cell_type": "code",
   "execution_count": 11,
   "metadata": {
    "ExecuteTime": {
     "end_time": "2022-09-25T17:59:17.433117Z",
     "start_time": "2022-09-25T17:59:17.428618Z"
    }
   },
   "outputs": [
    {
     "name": "stdout",
     "output_type": "stream",
     "text": [
      "The UD material properties are: \n",
      "  Elastic Properties:\n",
      "  -----------------------------------------------------------\n",
      "  E1     :     1.334e+11 , E2     :     7.226e+09 \n",
      "  nu12   :          0.26 , G12    :     3.254e+09 \n",
      "\n",
      "  Thermal expansion coefficients:\n",
      "  -----------------------------------------------------------\n",
      "  alpha1 :    -5.000e-06 , alpha2 :     1.200e-05 \n",
      "\n"
     ]
    }
   ],
   "source": [
    "udcomp.setAlpha( [-5e-6 , 12e-6] )\n",
    "print(\"The UD material properties are:\",udcomp)"
   ]
  },
  {
   "cell_type": "code",
   "execution_count": 12,
   "metadata": {
    "ExecuteTime": {
     "end_time": "2022-09-25T18:01:37.910302Z",
     "start_time": "2022-09-25T18:01:37.906361Z"
    }
   },
   "outputs": [],
   "source": [
    "lam = Laminate()\n",
    "\n",
    "lam.addMaterial( 'UD' , udcomp )\n",
    "\n",
    "lam.addLayer( 'UD' ,  0.0 , 6e-3 )\n",
    "lam.addLayer( 'UD' , 90.0 , 6e-3 )"
   ]
  },
  {
   "cell_type": "markdown",
   "metadata": {
    "ExecuteTime": {
     "end_time": "2022-09-25T18:01:18.206320Z",
     "start_time": "2022-09-25T18:01:18.196794Z"
    }
   },
   "source": [
    "The total system of equations is:\n",
    "  \\begin{equation}\n",
    "  \\begin{bmatrix}\n",
    "  {\\bf N} \\\\\n",
    "  {\\bf M}\n",
    "  \\end{bmatrix}\n",
    "  =\n",
    "  \\begin{bmatrix}\n",
    "  {\\bf A} & {\\bf B} \\\\\n",
    "  {\\bf B} & {\\bf D} \\\\  \n",
    "  \\end{bmatrix}\n",
    "  \\begin{bmatrix}\n",
    "  {\\bf \\epsilon} \\\\\n",
    "  {\\bf \\kappa}\n",
    "  \\end{bmatrix}-\n",
    "    \\begin{bmatrix}\n",
    "  {\\bf T}^* \\\\\n",
    "  {\\bf T}^{**}\n",
    "  \\end{bmatrix}\\Delta T\n",
    "  \\end{equation}\n",
    "  By absence of external loads, this can be written as:\n",
    "  \\begin{equation}\n",
    "    \\begin{bmatrix}\n",
    "      {\\bf A} & {\\bf B} \\\\\n",
    "      {\\bf B} & {\\bf D} \\\\  \n",
    "    \\end{bmatrix}\n",
    "    \\begin{bmatrix}\n",
    "      {\\bf \\epsilon} \\\\\n",
    "      {\\bf \\kappa}\n",
    "    \\end{bmatrix}\n",
    "    =\n",
    "    \\begin{bmatrix}\n",
    "      {\\bf T}^* \\\\\n",
    "      {\\bf T}^{**}\n",
    "    \\end{bmatrix}\\Delta T\n",
    "  \\end{equation}\n",
    "  Solving for ${\\bf \\epsilon}$ and ${\\bf \\kappa}$ gives:\n",
    "  \\begin{equation}\n",
    "    \\begin{bmatrix}\n",
    "      {\\bf \\epsilon} \\\\\n",
    "      {\\bf \\kappa}\n",
    "    \\end{bmatrix}\n",
    "    =\n",
    "    \\begin{bmatrix}\n",
    "      {\\bf A}_1 & {\\bf B}_1 \\\\\n",
    "      {\\bf C}_1 & {\\bf D}_1 \\\\  \n",
    "    \\end{bmatrix}\n",
    "    \\begin{bmatrix}\n",
    "      {\\bf T}^* \\\\\n",
    "      {\\bf T}^{**}\n",
    "    \\end{bmatrix}\\Delta T\n",
    "  \\end{equation}\n",
    "  The curvature ${\\bf \\kappa}$ can be calculated as:\n",
    "  \\begin{equation}\n",
    "    {\\bf \\kappa}= \\left({\\bf C}_1{\\bf T}^{*} + {\\bf D}_1 {\\bf T}^{**}\\right)  \\Delta T\n",
    "  \\end{equation}"
   ]
  },
  {
   "cell_type": "code",
   "execution_count": 13,
   "metadata": {
    "ExecuteTime": {
     "end_time": "2022-09-25T18:02:25.010736Z",
     "start_time": "2022-09-25T18:02:25.004739Z"
    }
   },
   "outputs": [
    {
     "name": "stdout",
     "output_type": "stream",
     "text": [
      "Ts is  :  [-3.4165042e+03 -3.4165042e+03 -2.6622397e-13]\n",
      "Tss is :  [ 1.30433021e+01 -1.30433021e+01 -7.98671910e-16]\n",
      "The curvature is:  [ 1.04355965e-01 -1.04355965e-01 -1.27799199e-17]\n"
     ]
    }
   ],
   "source": [
    "Ts  = lam.getTs()\n",
    "Tss = lam.getTss()\n",
    "\n",
    "print(\"Ts is  : \",Ts )\n",
    "print(\"Tss is : \",Tss)\n",
    "\n",
    "\n",
    "A1,B1,C1,D1 = lam.getInverseMatrices()\n",
    "\n",
    "import numpy as np\n",
    "\n",
    "deltaT = 100.0\n",
    "\n",
    "kappa = ( np.dot( C1 , Ts ) + np.dot( D1 , Tss ) ) * deltaT\n",
    "\n",
    "print(\"The curvature is: \",kappa)"
   ]
  },
  {
   "cell_type": "code",
   "execution_count": null,
   "metadata": {},
   "outputs": [],
   "source": []
  }
 ],
 "metadata": {
  "author": "Joris",
  "kernelspec": {
   "display_name": "Python 3 (ipykernel)",
   "language": "python",
   "name": "python3"
  },
  "language_info": {
   "codemirror_mode": {
    "name": "ipython",
    "version": 3
   },
   "file_extension": ".py",
   "mimetype": "text/x-python",
   "name": "python",
   "nbconvert_exporter": "python",
   "pygments_lexer": "ipython3",
   "version": "3.10.12"
  },
  "latex_envs": {
   "LaTeX_envs_menu_present": true,
   "autoclose": false,
   "autocomplete": true,
   "bibliofile": "biblio.bib",
   "cite_by": "apalike",
   "current_citInitial": 1,
   "eqLabelWithNumbers": true,
   "eqNumInitial": 1,
   "hotkeys": {
    "equation": "Ctrl-E",
    "itemize": "Ctrl-I"
   },
   "labels_anchors": false,
   "latex_user_defs": false,
   "report_style_numbering": false,
   "user_envs_cfg": false
  },
  "toc": {
   "base_numbering": 1,
   "nav_menu": {},
   "number_sections": true,
   "sideBar": true,
   "skip_h1_title": false,
   "title_cell": "Table of Contents",
   "title_sidebar": "Contents",
   "toc_cell": false,
   "toc_position": {},
   "toc_section_display": true,
   "toc_window_display": false
  },
  "varInspector": {
   "cols": {
    "lenName": 16,
    "lenType": 16,
    "lenVar": 40
   },
   "kernels_config": {
    "python": {
     "delete_cmd_postfix": "",
     "delete_cmd_prefix": "del ",
     "library": "var_list.py",
     "varRefreshCmd": "print(var_dic_list())"
    },
    "r": {
     "delete_cmd_postfix": ") ",
     "delete_cmd_prefix": "rm(",
     "library": "var_list.r",
     "varRefreshCmd": "cat(var_dic_list()) "
    }
   },
   "types_to_exclude": [
    "module",
    "function",
    "builtin_function_or_method",
    "instance",
    "_Feature"
   ],
   "window_display": false
  }
 },
 "nbformat": 4,
 "nbformat_minor": 4
}
