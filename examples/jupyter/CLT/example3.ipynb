{
 "cells": [
  {
   "cell_type": "markdown",
   "metadata": {},
   "source": [
    "This is the Python code is based on the examples in Chapter 3 of the book:\n",
    "\n",
    "FIBER-REINFORCED COMPOSITES\n",
    "Materials, Manufacturing, and Design\n",
    "by: P.K. Mallick (2008) by Taylor & Francis Group, LLC\n",
    "\n",
    "and is discussed during the lecture on classical laminate theory in the course:\n",
    "\n",
    "Composite and Lightweight Materials (4MM00)\n",
    "\n",
    "at Eindhoven University of Technology\n",
    "\n",
    "This code:\n",
    "(C) Joris Remmers (2013-2023)"
   ]
  },
  {
   "cell_type": "markdown",
   "metadata": {},
   "source": [
    "## Example 3 (Classical Laminate Theory)\n",
    "\n",
    "Consider a fibre reinforced plastic that consists of uni-directional carbon fibres embedded in an epoxy matrix. \n",
    "The fibre volume fraction $V_f=0.6$. The properties of the transverse isoptric fibre are: $E_{\\rm fL} = 220\\,$GPa ; \n",
    "$E_{\\rm fT} = 20\\,$GPa ; $\\nu_{\\rm f} = 0.2$ ; $G_{\\rm f} = 91.7\\,$GPa.\n",
    "\n",
    "The properties of the isotropic epoxy matrix are $E_{\\rm m} = 3.6\\,$GPa ; $\\nu_{\\rm f} = 0.35$ ; \n",
    "$G_{\\rm f} = 1.33\\,$GPa.\n",
    "\n",
    "The resulting UD composite material is used in a laminate consisting of 8 layers with a\n",
    "thickness $0.3\\,$mm and stacking sequence $\\lbrack 0,45,-45,90\\rbrack_{\\rm S}$. Calculate the ABD matrices of this laminate and evaluate the results."
   ]
  },
  {
   "cell_type": "markdown",
   "metadata": {},
   "source": [
    "## Solution"
   ]
  },
  {
   "cell_type": "code",
   "execution_count": 29,
   "metadata": {
    "ExecuteTime": {
     "end_time": "2022-09-25T17:32:09.139117Z",
     "start_time": "2022-09-25T17:32:09.136090Z"
    }
   },
   "outputs": [],
   "source": [
    "from composite import TransverseIsotropic,mixMaterials"
   ]
  },
  {
   "cell_type": "markdown",
   "metadata": {},
   "source": [
    "For this carbon fiber composite material, the carbon fibers and the epoxy matrix are modeled as separate transversely isotropic materials. The T-300 carbon fibers have Young's Moduli $E_1=220\\,$GPa,  $E_2=22\\,$GPa, a Poisson's ratio $\\nu_{12}=0.2$ and a Shear Modulus $G_{12}=91.7\\,$GPa. The epoxy matrix may be considered isotropic with Young's modulus $E=3.6\\,$GPa, Poisson's ratio $\\nu=0.35$ and Shear Modulus $G_{12}=1.33\\,$GPa. "
   ]
  },
  {
   "cell_type": "code",
   "execution_count": 30,
   "metadata": {
    "ExecuteTime": {
     "end_time": "2022-09-25T17:32:10.181794Z",
     "start_time": "2022-09-25T17:32:10.177377Z"
    }
   },
   "outputs": [],
   "source": [
    "carbon = TransverseIsotropic( [220e9,220e9],0.2,91.7e9)\n",
    "epoxy  = TransverseIsotropic( 3.6e9,0.35,1.33e9)"
   ]
  },
  {
   "cell_type": "markdown",
   "metadata": {},
   "source": [
    "The properties of carbon and epoxy are:"
   ]
  },
  {
   "cell_type": "code",
   "execution_count": 31,
   "metadata": {
    "ExecuteTime": {
     "end_time": "2022-09-25T17:32:11.117194Z",
     "start_time": "2022-09-25T17:32:11.113739Z"
    }
   },
   "outputs": [
    {
     "name": "stdout",
     "output_type": "stream",
     "text": [
      "\n",
      "  Elastic Properties:\n",
      "  -----------------------------------------------------------\n",
      "  E1     :     2.200e+11 , E2     :     2.200e+11 \n",
      "  nu12   :          0.20 , G12    :     9.170e+10 \n",
      "\n",
      "  Thermal expansion coefficients:\n",
      "  -----------------------------------------------------------\n",
      "  alpha1 :     0.000e+00 , alpha2 :     0.000e+00 \n",
      "\n",
      "\n",
      "  Elastic Properties:\n",
      "  -----------------------------------------------------------\n",
      "  E1     :     3.600e+09 , E2     :     3.600e+09 \n",
      "  nu12   :          0.35 , G12    :     1.330e+09 \n",
      "\n",
      "  Thermal expansion coefficients:\n",
      "  -----------------------------------------------------------\n",
      "  alpha1 :     0.000e+00 , alpha2 :     0.000e+00 \n",
      "\n"
     ]
    }
   ],
   "source": [
    "print(carbon)\n",
    "print(epoxy)"
   ]
  },
  {
   "cell_type": "markdown",
   "metadata": {},
   "source": [
    "The composite consists of 60\\% fibres and 40\\% epoxy. The properties of the composite can be calculated by simple homogensiation."
   ]
  },
  {
   "cell_type": "code",
   "execution_count": 32,
   "metadata": {
    "ExecuteTime": {
     "end_time": "2022-09-25T17:32:12.681974Z",
     "start_time": "2022-09-25T17:32:12.678706Z"
    }
   },
   "outputs": [],
   "source": [
    "udcomp = mixMaterials( carbon , epoxy , 0.6 )\n",
    "    "
   ]
  },
  {
   "cell_type": "markdown",
   "metadata": {
    "ExecuteTime": {
     "end_time": "2022-09-25T17:26:20.338488Z",
     "start_time": "2022-09-25T17:26:20.333449Z"
    }
   },
   "source": [
    "Construct the laminate by adding the material and the different layers and calculate the $\\bf{A},\\bf{B}$ and ${\\bf D}$ matrices."
   ]
  },
  {
   "cell_type": "code",
   "execution_count": 34,
   "metadata": {
    "ExecuteTime": {
     "end_time": "2022-09-25T17:33:39.760665Z",
     "start_time": "2022-09-25T17:33:39.756747Z"
    }
   },
   "outputs": [],
   "source": [
    "from composite import Laminate\n",
    "lam = Laminate()\n",
    "\n",
    "lam.addMaterial( 'UD' , udcomp )\n",
    "\n",
    "orientations = [ 0. , 45. , -45. , 90 , 90 , -45. , 45. , 0. ]"
   ]
  },
  {
   "cell_type": "code",
   "execution_count": 35,
   "metadata": {
    "ExecuteTime": {
     "end_time": "2022-09-25T17:33:53.145817Z",
     "start_time": "2022-09-25T17:33:53.139668Z"
    }
   },
   "outputs": [
    {
     "name": "stdout",
     "output_type": "stream",
     "text": [
      "\n",
      "A matrix:\n",
      " [[1.11546373e+08 3.59020530e+07 0.00000000e+00]\n",
      " [3.59020530e+07 1.11546373e+08 3.72529030e-09]\n",
      " [0.00000000e+00 3.72529030e-09 3.78221601e+07]]\n",
      "\n",
      "B matrix:\n",
      " [[ 3.63797881e-12  3.41060513e-13  0.00000000e+00]\n",
      " [ 3.41060513e-13  6.82121026e-13  0.00000000e+00]\n",
      " [ 0.00000000e+00  0.00000000e+00 -9.09494702e-13]]\n",
      "\n",
      "D matrix:\n",
      " [[62.61663954 10.0102413   3.91290091]\n",
      " [10.0102413  15.66182864  3.91290091]\n",
      " [ 3.91290091  3.91290091 10.650277  ]]\n"
     ]
    }
   ],
   "source": [
    "for angle in orientations:\n",
    "  lam.addLayer( 'UD' , angle , 0.25e-3 )\n",
    "    \n",
    "print (\"\\nA matrix:\\n\",lam.getA())\n",
    "print (\"\\nB matrix:\\n\",lam.getB())\n",
    "print (\"\\nD matrix:\\n\",lam.getD())"
   ]
  },
  {
   "cell_type": "markdown",
   "metadata": {},
   "source": [
    "Note that for this stacking sequence, the B matrix is identical to zero (except some numerical noise)."
   ]
  },
  {
   "cell_type": "code",
   "execution_count": null,
   "metadata": {},
   "outputs": [],
   "source": []
  }
 ],
 "metadata": {
  "author": "Joris",
  "kernelspec": {
   "display_name": "Python 3 (ipykernel)",
   "language": "python",
   "name": "python3"
  },
  "language_info": {
   "codemirror_mode": {
    "name": "ipython",
    "version": 3
   },
   "file_extension": ".py",
   "mimetype": "text/x-python",
   "name": "python",
   "nbconvert_exporter": "python",
   "pygments_lexer": "ipython3",
   "version": "3.10.12"
  },
  "latex_envs": {
   "LaTeX_envs_menu_present": true,
   "autoclose": false,
   "autocomplete": true,
   "bibliofile": "biblio.bib",
   "cite_by": "apalike",
   "current_citInitial": 1,
   "eqLabelWithNumbers": true,
   "eqNumInitial": 1,
   "hotkeys": {
    "equation": "Ctrl-E",
    "itemize": "Ctrl-I"
   },
   "labels_anchors": false,
   "latex_user_defs": false,
   "report_style_numbering": false,
   "user_envs_cfg": false
  },
  "toc": {
   "base_numbering": 1,
   "nav_menu": {},
   "number_sections": true,
   "sideBar": true,
   "skip_h1_title": false,
   "title_cell": "Table of Contents",
   "title_sidebar": "Contents",
   "toc_cell": false,
   "toc_position": {},
   "toc_section_display": true,
   "toc_window_display": false
  },
  "varInspector": {
   "cols": {
    "lenName": 16,
    "lenType": 16,
    "lenVar": 40
   },
   "kernels_config": {
    "python": {
     "delete_cmd_postfix": "",
     "delete_cmd_prefix": "del ",
     "library": "var_list.py",
     "varRefreshCmd": "print(var_dic_list())"
    },
    "r": {
     "delete_cmd_postfix": ") ",
     "delete_cmd_prefix": "rm(",
     "library": "var_list.r",
     "varRefreshCmd": "cat(var_dic_list()) "
    }
   },
   "types_to_exclude": [
    "module",
    "function",
    "builtin_function_or_method",
    "instance",
    "_Feature"
   ],
   "window_display": false
  }
 },
 "nbformat": 4,
 "nbformat_minor": 4
}
