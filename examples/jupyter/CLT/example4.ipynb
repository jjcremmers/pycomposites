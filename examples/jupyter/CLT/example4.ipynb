{
 "cells": [
  {
   "cell_type": "markdown",
   "metadata": {},
   "source": [
    "This is the Python code is based on the examples in Chapter 3 of the book:\n",
    "\n",
    "FIBER-REINFORCED COMPOSITES\n",
    "Materials, Manufacturing, and Design\n",
    "by: P.K. Mallick (2008) by Taylor & Francis Group, LLC\n",
    "\n",
    "and is discussed during the lecture on classical laminate theory in the course:\n",
    "\n",
    "Composite and Lightweight Materials (4MM00)\n",
    "\n",
    "at Eindhoven University of Technology\n",
    "\n",
    "This code:\n",
    "(C) Joris Remmers (2013-2023)"
   ]
  },
  {
   "cell_type": "markdown",
   "metadata": {},
   "source": [
    "## Example 4 (Classical Laminate Theory)\n",
    "\n",
    "Consider a fibre reinforced plastic that consists of uni-directional carbon fibres embedded in an epoxy matrix. \n",
    "The fibre volume fraction $V_f=0.6$. The properties of the transverse isoptric fibre are: $E_{\\rm fL} = 220\\,$GPa ; \n",
    "$E_{\\rm fT} = 20\\,$GPa ; $\\nu_{\\rm f} = 0.2$ ; $G_{\\rm f} = 91.7\\,$GPa.\n",
    "\n",
    "The properties of the isotropic epoxy matrix are $E_{\\rm m} = 3.6\\,$GPa ; $\\nu_{\\rm f} = 0.35$ ; \n",
    "$G_{\\rm f} = 1.33\\,$GPa.\n",
    "\n",
    "The resulting UD composite material is used in a laminate consisting of 8 layers with a\n",
    "thickness $0.3\\,$mm and stacking sequence $\\lbrack 0,45,-45,90\\rbrack_{\\rm S}$, which is loaded by the following load: ${\\bf N}=\\lbrack 10 , 5 , 6\\rbrack$ kN/m and ${\\bf M}=\\lbrack 3 , 10 , 1\\rbrack$ Nm/m.\n",
    "\n",
    "Calculate the stresses in material direction in each layer. Plot the results as a bar chart."
   ]
  },
  {
   "cell_type": "markdown",
   "metadata": {},
   "source": [
    "## Solution"
   ]
  },
  {
   "cell_type": "code",
   "execution_count": 9,
   "metadata": {
    "ExecuteTime": {
     "end_time": "2022-09-25T17:49:54.925742Z",
     "start_time": "2022-09-25T17:49:54.490871Z"
    }
   },
   "outputs": [],
   "source": [
    "from composite import TransverseIsotropic,mixMaterials"
   ]
  },
  {
   "cell_type": "markdown",
   "metadata": {},
   "source": [
    "For this carbon fiber composite material, the carbon fibers and the epoxy matrix are modeled as separate transversely isotropic materials. The T-300 carbon fibers have Young's Moduli $E_1=220\\,$GPa,  $E_2=22\\,$GPa, a Poisson's ratio $\\nu_{12}=0.2$ and a Shear Modulus $G_{12}=91.7\\,$GPa. The epoxy matrix may be considered isotropic with Young's modulus $E=3.6\\,$GPa, Poisson's ratio $\\nu=0.35$ and Shear Modulus $G_{12}=1.33\\,$GPa. "
   ]
  },
  {
   "cell_type": "code",
   "execution_count": 10,
   "metadata": {
    "ExecuteTime": {
     "end_time": "2022-09-25T17:49:55.016767Z",
     "start_time": "2022-09-25T17:49:54.928510Z"
    }
   },
   "outputs": [],
   "source": [
    "carbon = TransverseIsotropic( [220e9,22e9],0.2,91.7e9)\n",
    "epoxy  = TransverseIsotropic( 3.6e9,0.35,1.33e9)"
   ]
  },
  {
   "cell_type": "markdown",
   "metadata": {},
   "source": [
    "The properties of carbon and epoxy are:"
   ]
  },
  {
   "cell_type": "code",
   "execution_count": 11,
   "metadata": {
    "ExecuteTime": {
     "end_time": "2022-09-25T17:49:55.219227Z",
     "start_time": "2022-09-25T17:49:55.214445Z"
    }
   },
   "outputs": [
    {
     "name": "stdout",
     "output_type": "stream",
     "text": [
      "\n",
      "  Elastic Properties:\n",
      "  -----------------------------------------------------------\n",
      "  E1     :     2.200e+11 , E2     :     2.200e+10 \n",
      "  nu12   :          0.20 , G12    :     9.170e+10 \n",
      "\n",
      "  Thermal expansion coefficients:\n",
      "  -----------------------------------------------------------\n",
      "  alpha1 :     0.000e+00 , alpha2 :     0.000e+00 \n",
      "\n",
      "\n",
      "  Elastic Properties:\n",
      "  -----------------------------------------------------------\n",
      "  E1     :     3.600e+09 , E2     :     3.600e+09 \n",
      "  nu12   :          0.35 , G12    :     1.330e+09 \n",
      "\n",
      "  Thermal expansion coefficients:\n",
      "  -----------------------------------------------------------\n",
      "  alpha1 :     0.000e+00 , alpha2 :     0.000e+00 \n",
      "\n"
     ]
    }
   ],
   "source": [
    "print(carbon)\n",
    "print(epoxy)"
   ]
  },
  {
   "cell_type": "markdown",
   "metadata": {},
   "source": [
    "The composite consists of 60\\% fibres and 40\\% epoxy. The properties of the composite can be calculated by simple homogensiation."
   ]
  },
  {
   "cell_type": "code",
   "execution_count": 12,
   "metadata": {
    "ExecuteTime": {
     "end_time": "2022-09-25T17:49:56.384462Z",
     "start_time": "2022-09-25T17:49:56.380399Z"
    }
   },
   "outputs": [],
   "source": [
    "udcomp = mixMaterials( carbon , epoxy , 0.6 )\n",
    "    "
   ]
  },
  {
   "cell_type": "markdown",
   "metadata": {
    "ExecuteTime": {
     "end_time": "2022-09-25T17:26:20.338488Z",
     "start_time": "2022-09-25T17:26:20.333449Z"
    }
   },
   "source": [
    "Calculate the $\\bf{A},\\bf{B}$ and ${\\bf D}$ matrices for a given a laminate of UD material with a stacking sequence $\\lbrack 0,45,-45,90\\rbrack_{\\rm S}$. Each layer has a thickness of $0.3$\\,mm."
   ]
  },
  {
   "cell_type": "code",
   "execution_count": 13,
   "metadata": {
    "ExecuteTime": {
     "end_time": "2022-09-25T17:49:57.676897Z",
     "start_time": "2022-09-25T17:49:57.672476Z"
    }
   },
   "outputs": [],
   "source": [
    "from composite import Laminate\n",
    "lam = Laminate()\n",
    "\n",
    "lam.addMaterial( 'UD' , udcomp )\n",
    "\n",
    "orientations = [ 0. , 45. , -45. , 90 , 90 , -45. , 45. , 0. ]"
   ]
  },
  {
   "cell_type": "code",
   "execution_count": 14,
   "metadata": {
    "ExecuteTime": {
     "end_time": "2022-09-25T17:49:58.299382Z",
     "start_time": "2022-09-25T17:49:58.292528Z"
    }
   },
   "outputs": [
    {
     "name": "stdout",
     "output_type": "stream",
     "text": [
      "\n",
      "A matrix:\n",
      " [[1.10084410e+08 3.48701806e+07 0.00000000e+00]\n",
      " [3.48701806e+07 1.10084410e+08 3.72529030e-09]\n",
      " [0.00000000e+00 3.72529030e-09 3.76071147e+07]]\n",
      "\n",
      "B matrix:\n",
      " [[-3.63797881e-12 -4.54747351e-13  0.00000000e+00]\n",
      " [-4.54747351e-13  0.00000000e+00  0.00000000e+00]\n",
      " [ 0.00000000e+00  0.00000000e+00  3.41060513e-13]]\n",
      "\n",
      "D matrix:\n",
      " [[62.39049693  9.67972416  3.95867071]\n",
      " [ 9.67972416 14.88644841  3.95867071]\n",
      " [ 3.95867071  3.95867071 10.59203554]]\n"
     ]
    }
   ],
   "source": [
    "for angle in orientations:\n",
    "  lam.addLayer( 'UD' , angle , 0.25e-3 )\n",
    "    \n",
    "print (\"\\nA matrix:\\n\",lam.getA())\n",
    "print (\"\\nB matrix:\\n\",lam.getB())\n",
    "print (\"\\nD matrix:\\n\",lam.getD())"
   ]
  },
  {
   "cell_type": "markdown",
   "metadata": {},
   "source": [
    "Calculate the stresses in each layer (expressed in the material coordinate system) of the laminate for the following load: ${\\bf N}=\\lbrack 10 , 5 , 6\\rbrack$ kN/m and ${\\bf M}=\\lbrack 3 , 10 , 1\\rbrack$ Nm/m."
   ]
  },
  {
   "cell_type": "markdown",
   "metadata": {},
   "source": [
    "First, calculate the inverse matrices"
   ]
  },
  {
   "cell_type": "code",
   "execution_count": 15,
   "metadata": {
    "ExecuteTime": {
     "end_time": "2022-09-25T17:50:00.514233Z",
     "start_time": "2022-09-25T17:50:00.422494Z"
    }
   },
   "outputs": [],
   "source": [
    "A1,B1,C1,D1 = lam.getInverseMatrices()"
   ]
  },
  {
   "cell_type": "markdown",
   "metadata": {},
   "source": [
    "Calculate the midplane strain $\\boldsymbol{\\epsilon}^0$ and curvatures $\\boldsymbol{\\kappa}$ according to:\n",
    "\\begin{equation}\n",
    "  \\boldsymbol{\\epsilon}^0 = {\\bf A}_1 {\\bf N} + {\\bf B}_1{\\bf M}\n",
    "\\end{equation} \n",
    "\\begin{equation}\n",
    "  \\boldsymbol{\\kappa} = {\\bf C}_1 {\\bf N} + {\\bf D}_1{\\bf M}\n",
    "\\end{equation}"
   ]
  },
  {
   "cell_type": "code",
   "execution_count": 16,
   "metadata": {
    "ExecuteTime": {
     "end_time": "2022-09-25T17:50:02.068588Z",
     "start_time": "2022-09-25T17:50:02.062426Z"
    }
   },
   "outputs": [
    {
     "name": "stdout",
     "output_type": "stream",
     "text": [
      "The midplane strains are :  [8.49787329e-05 1.85019499e-05 1.59544279e-04]\n",
      "The curvatures are       :  [-0.05835077  0.7536957  -0.16546788]\n"
     ]
    }
   ],
   "source": [
    "import numpy as np\n",
    "\n",
    "N = np.array([1.0e4, 5.0e3, 6.0e3 ])\n",
    "M = np.array([3.   , 10.  , 1.    ])\n",
    "\n",
    "eps0  = np.dot( A1 , N ) + np.dot( B1 , M )\n",
    "kappa = np.dot( C1 , N ) + np.dot( D1 , M )\n",
    "\n",
    "print(\"The midplane strains are : \",eps0)\n",
    "print(\"The curvatures are       : \",kappa)"
   ]
  },
  {
   "cell_type": "markdown",
   "metadata": {},
   "source": [
    "For each layer $j$, the strain can be calculated by:\n",
    "\\begin{equation}\n",
    "  \\boldsymbol{\\epsilon}_j = \\boldsymbol{\\epsilon}^0 + z_j\\boldsymbol{\\kappa}\n",
    "\\end{equation}\n",
    "The stresses in layer $j$ in the global coordinate system are\n",
    "\\begin{equation}\n",
    "  \\boldsymbol{\\sigma}_j = {\\bf \\bar Q}_j\\boldsymbol{\\epsilon}\n",
    "\\end{equation}\n",
    "These stresses need to be transformed to material frame of reference."
   ]
  },
  {
   "cell_type": "code",
   "execution_count": 22,
   "metadata": {
    "ExecuteTime": {
     "end_time": "2022-09-25T17:50:28.696519Z",
     "start_time": "2022-09-25T17:50:28.691850Z"
    }
   },
   "outputs": [],
   "source": [
    "from composite import stressTransformation\n",
    "\n",
    "sigmaplt = []\n",
    "\n",
    "for iLay,angle in enumerate(orientations):\n",
    "  epsilon = eps0 + lam.getZcoord( iLay ) * kappa\n",
    "  sigma   = np.dot( lam.getQbar(iLay) , epsilon )\n",
    "  sigmaplt.append(stressTransformation( sigma , angle ))"
   ]
  },
  {
   "cell_type": "markdown",
   "metadata": {},
   "source": [
    "The results are stored in the list sigmaplt and can be plotted as a bar chart by means of the following matplotlib code."
   ]
  },
  {
   "cell_type": "code",
   "execution_count": 23,
   "metadata": {
    "ExecuteTime": {
     "end_time": "2022-09-25T17:51:22.118156Z",
     "start_time": "2022-09-25T17:51:20.308339Z"
    }
   },
   "outputs": [
    {
     "data": {
      "image/png": "[encoded data removed]",
      "text/plain": [
       "<Figure size 432x288 with 1 Axes>"
      ]
     },
     "metadata": {
      "needs_background": "light"
     },
     "output_type": "display_data"
    }
   ],
   "source": [
    "import matplotlib.pyplot as plt\n",
    "\n",
    "X = np.arange(8)\n",
    "fig = plt.figure()\n",
    "\n",
    "plt.bar(X - 0.26, [s[0] for s in sigmaplt] , color = 'b', width = 0.25, label = \"$\\sigma_{11}$\")\n",
    "plt.bar(X       , [s[1] for s in sigmaplt] , color = 'g', width = 0.25, label = \"$\\sigma_{22}$\")\n",
    "plt.bar(X + 0.26, [s[2] for s in sigmaplt] , color = 'r', width = 0.25, label = \"$\\tau_{12}$\")\n",
    "\n",
    "plt.xticks(X, orientations)\n",
    "\n",
    "plt.xlabel(\"Layer orientations\")\n",
    "plt.ylabel(\"Stress [MPa]\")\n",
    "plt.title(\"Stress in each layer (12 coordinate system)\")\n",
    "\n",
    "plt.legend()\n",
    "plt.show()"
   ]
  },
  {
   "cell_type": "code",
   "execution_count": null,
   "metadata": {},
   "outputs": [],
   "source": []
  },
  {
   "cell_type": "code",
   "execution_count": null,
   "metadata": {},
   "outputs": [],
   "source": []
  }
 ],
 "metadata": {
  "author": "Joris",
  "kernelspec": {
   "display_name": "Python 3 (ipykernel)",
   "language": "python",
   "name": "python3"
  },
  "language_info": {
   "codemirror_mode": {
    "name": "ipython",
    "version": 3
   },
   "file_extension": ".py",
   "mimetype": "text/x-python",
   "name": "python",
   "nbconvert_exporter": "python",
   "pygments_lexer": "ipython3",
   "version": "3.10.12"
  },
  "latex_envs": {
   "LaTeX_envs_menu_present": true,
   "autoclose": false,
   "autocomplete": true,
   "bibliofile": "biblio.bib",
   "cite_by": "apalike",
   "current_citInitial": 1,
   "eqLabelWithNumbers": true,
   "eqNumInitial": 1,
   "hotkeys": {
    "equation": "Ctrl-E",
    "itemize": "Ctrl-I"
   },
   "labels_anchors": false,
   "latex_user_defs": false,
   "report_style_numbering": false,
   "user_envs_cfg": false
  },
  "toc": {
   "base_numbering": 1,
   "nav_menu": {},
   "number_sections": true,
   "sideBar": true,
   "skip_h1_title": false,
   "title_cell": "Table of Contents",
   "title_sidebar": "Contents",
   "toc_cell": false,
   "toc_position": {},
   "toc_section_display": true,
   "toc_window_display": false
  },
  "varInspector": {
   "cols": {
    "lenName": 16,
    "lenType": 16,
    "lenVar": 40
   },
   "kernels_config": {
    "python": {
     "delete_cmd_postfix": "",
     "delete_cmd_prefix": "del ",
     "library": "var_list.py",
     "varRefreshCmd": "print(var_dic_list())"
    },
    "r": {
     "delete_cmd_postfix": ") ",
     "delete_cmd_prefix": "rm(",
     "library": "var_list.r",
     "varRefreshCmd": "cat(var_dic_list()) "
    }
   },
   "types_to_exclude": [
    "module",
    "function",
    "builtin_function_or_method",
    "instance",
    "_Feature"
   ],
   "window_display": false
  }
 },
 "nbformat": 4,
 "nbformat_minor": 4
}
