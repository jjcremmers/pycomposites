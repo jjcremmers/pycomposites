{
 "cells": [
  {
   "cell_type": "markdown",
   "metadata": {},
   "source": [
    "This is the Python code is based on the examples in Chapter 3 of the book:\n",
    "\n",
    "FIBER-REINFORCED COMPOSITES\n",
    "Materials, Manufacturing, and Design\n",
    "by: P.K. Mallick (2008) by Taylor & Francis Group, LLC\n",
    "\n",
    "and is discussed during the lecture on classical laminate theory in the course:\n",
    "\n",
    "Composite and Lightweight Materials (4MM00)\n",
    "\n",
    "at Eindhoven University of Technology\n",
    "\n",
    "This code:\n",
    "(C) Joris Remmers (2013-2023)"
   ]
  },
  {
   "cell_type": "markdown",
   "metadata": {},
   "source": [
    "## Example 5 (Classical Laminate Theory)\n",
    "\n",
    "Consider a fibre reinforced plastic that consists of uni-directional carbon fibres embedded in an epoxy matrix. \n",
    "The fibre volume fraction $V_f=0.6$. The properties of the transverse isoptric fibre are: $E_{\\rm fL} = 220\\,$GPa ; \n",
    "$E_{\\rm fT} = 20\\,$GPa ; $\\nu_{\\rm f} = 0.2$ ; $G_{\\rm f} = 91.7\\,$GPa.\n",
    "\n",
    "The properties of the isotropic epoxy matrix are $E_{\\rm m} = 3.6\\,$GPa ; $\\nu_{\\rm f} = 0.35$ ; \n",
    "$G_{\\rm f} = 1.33\\,$GPa.\n",
    "\n",
    "The resulting UD composite material is used in an angle ply laminate consisting of 4 layers with a\n",
    "thickness $6\\,$mm and stacking sequence $\\lbrack \\theta,-\\theta\\rbrack_{\\rm S}$. Determine the apparent stiffness parameter $E_x, E_y, \\nu_{xy}$ and $G_{xy}$ for all angles $0<\\theta<90$. Plot the results in a graph."
   ]
  },
  {
   "cell_type": "markdown",
   "metadata": {},
   "source": [
    "## Solution"
   ]
  },
  {
   "cell_type": "code",
   "execution_count": 1,
   "metadata": {
    "ExecuteTime": {
     "end_time": "2022-09-25T17:49:54.925742Z",
     "start_time": "2022-09-25T17:49:54.490871Z"
    }
   },
   "outputs": [],
   "source": [
    "from composite import TransverseIsotropic,mixMaterials"
   ]
  },
  {
   "cell_type": "markdown",
   "metadata": {},
   "source": [
    "For this carbon fiber composite material, the carbon fibers and the epoxy matrix are modeled as separate transversely isotropic materials. The T-300 carbon fibers have Young's Moduli $E_1=220\\,$GPa,  $E_2=22\\,$GPa, a Poisson's ratio $\\nu_{12}=0.2$ and a Shear Modulus $G_{12}=91.7\\,$GPa. The epoxy matrix may be considered isotropic with Young's modulus $E=3.6\\,$GPa, Poisson's ratio $\\nu=0.35$ and Shear Modulus $G_{12}=1.33\\,$GPa. "
   ]
  },
  {
   "cell_type": "code",
   "execution_count": 2,
   "metadata": {
    "ExecuteTime": {
     "end_time": "2022-09-25T17:53:20.730144Z",
     "start_time": "2022-09-25T17:53:20.726515Z"
    }
   },
   "outputs": [],
   "source": [
    "carbon = TransverseIsotropic( [220e9,22e9],0.2,91.7e9)\n",
    "epoxy  = TransverseIsotropic( 3.6e9,0.35,1.33e9)"
   ]
  },
  {
   "cell_type": "markdown",
   "metadata": {},
   "source": [
    "The properties of carbon and epoxy are:"
   ]
  },
  {
   "cell_type": "code",
   "execution_count": 3,
   "metadata": {
    "ExecuteTime": {
     "end_time": "2022-09-25T17:53:21.412723Z",
     "start_time": "2022-09-25T17:53:21.408386Z"
    }
   },
   "outputs": [
    {
     "name": "stdout",
     "output_type": "stream",
     "text": [
      "\n",
      "  Elastic Properties:\n",
      "  -----------------------------------------------------------\n",
      "  E1     :     2.200e+11 , E2     :     2.200e+10 \n",
      "  nu12   :          0.20 , G12    :     9.170e+10 \n",
      "\n",
      "  Thermal expansion coefficients:\n",
      "  -----------------------------------------------------------\n",
      "  alpha1 :     0.000e+00 , alpha2 :     0.000e+00 \n",
      "\n",
      "\n",
      "  Elastic Properties:\n",
      "  -----------------------------------------------------------\n",
      "  E1     :     3.600e+09 , E2     :     3.600e+09 \n",
      "  nu12   :          0.35 , G12    :     1.330e+09 \n",
      "\n",
      "  Thermal expansion coefficients:\n",
      "  -----------------------------------------------------------\n",
      "  alpha1 :     0.000e+00 , alpha2 :     0.000e+00 \n",
      "\n"
     ]
    }
   ],
   "source": [
    "print(carbon)\n",
    "print(epoxy)"
   ]
  },
  {
   "cell_type": "markdown",
   "metadata": {},
   "source": [
    "The composite consists of 60\\% fibres and 40\\% epoxy. The properties of the composite can be calculated by simple homogensiation."
   ]
  },
  {
   "cell_type": "code",
   "execution_count": 4,
   "metadata": {
    "ExecuteTime": {
     "end_time": "2022-09-25T17:53:22.329454Z",
     "start_time": "2022-09-25T17:53:22.326343Z"
    }
   },
   "outputs": [],
   "source": [
    "udcomp = mixMaterials( carbon , epoxy , 0.6 )\n",
    "    "
   ]
  },
  {
   "cell_type": "markdown",
   "metadata": {
    "ExecuteTime": {
     "end_time": "2022-09-25T17:26:20.338488Z",
     "start_time": "2022-09-25T17:26:20.333449Z"
    }
   },
   "source": [
    "Calculate the $\\bf{A},\\bf{B}$ and ${\\bf D}$ matrices for a given a laminate of UD material with a stacking sequence $\\lbrack 0,45,-45,90\\rbrack_{\\rm S}$. Each layer has a thickness of $0.3$\\,mm."
   ]
  },
  {
   "cell_type": "code",
   "execution_count": 5,
   "metadata": {
    "ExecuteTime": {
     "end_time": "2022-09-25T17:53:24.263967Z",
     "start_time": "2022-09-25T17:53:24.260190Z"
    }
   },
   "outputs": [],
   "source": [
    "from composite import Laminate\n",
    "lam = Laminate()\n",
    "\n",
    "lam.addMaterial( 'UD' , udcomp )"
   ]
  },
  {
   "cell_type": "markdown",
   "metadata": {},
   "source": [
    "Calculate the layer properties of a cross ply layer in a loop in which $\\theta$ is varied from 0 to 90 degrees. The results are stored in an empty list 'total'."
   ]
  },
  {
   "cell_type": "code",
   "execution_count": 6,
   "metadata": {
    "ExecuteTime": {
     "end_time": "2022-09-25T17:55:30.803209Z",
     "start_time": "2022-09-25T17:55:30.789002Z"
    }
   },
   "outputs": [],
   "source": [
    "total = []\n",
    "\n",
    "for theta in range(91):\n",
    "  lam.removeAllLayers()\n",
    "\n",
    "  lam.addLayer( 'UD' ,  theta , 6e-3 )\n",
    "  lam.addLayer( 'UD' , -theta , 6e-3 )\n",
    "  lam.addLayer( 'UD' , -theta , 6e-3 )\n",
    "  lam.addLayer( 'UD' ,  theta , 6e-3 )\n",
    "\n",
    "  output = lam.getElastic()   #list of 4 values: Ex, Ey, Gxy and nuxy\n",
    "\n",
    "  output.append(theta)        #the angle is added as 5th value\n",
    "\n",
    "  total.append(output)"
   ]
  },
  {
   "cell_type": "markdown",
   "metadata": {
    "ExecuteTime": {
     "end_time": "2022-09-25T17:56:23.270080Z",
     "start_time": "2022-09-25T17:56:23.265465Z"
    }
   },
   "source": [
    "The results are plotted using matplotlib."
   ]
  },
  {
   "cell_type": "code",
   "execution_count": 7,
   "metadata": {
    "ExecuteTime": {
     "end_time": "2022-09-25T17:56:32.716012Z",
     "start_time": "2022-09-25T17:56:31.144494Z"
    }
   },
   "outputs": [
    {
     "data": {
      "image/png": "[encoded data removed]",
      "text/plain": [
       "<Figure size 432x288 with 2 Axes>"
      ]
     },
     "metadata": {
      "needs_background": "light"
     },
     "output_type": "display_data"
    }
   ],
   "source": [
    "import matplotlib.pyplot as plt\n",
    "\n",
    "fig, ax1 = plt.subplots()\n",
    "\n",
    "ax2 = ax1.twinx()\n",
    "\n",
    "ax1.set_xlabel('layer angle $\\\\theta$')\n",
    "ax1.set_ylabel('Stiffness [Pa]', color='b')\n",
    "ax2.set_ylabel('Poisson ratio []', color='r')\n",
    "\n",
    "ax1.plot( [x[4] for x in total], [x[0] for x in total], 'b-'  , label=\"$E_x$\" )\n",
    "ax1.plot( [x[4] for x in total], [x[1] for x in total], 'b--' , label=\"$E_y$\" )\n",
    "ax1.plot( [x[4] for x in total], [x[3] for x in total], 'b:'  , label=\"$G_{xy}$\" )\n",
    "ax2.plot( [x[4] for x in total], [x[2] for x in total], 'r-'  , label=\"$\\\\nu_{xy}$\" )\n",
    "\n",
    "ax1.legend(loc=\"center right\")\n",
    "ax2.legend(loc=\"upper right\")\n",
    "\n",
    "plt.show()"
   ]
  },
  {
   "cell_type": "code",
   "execution_count": null,
   "metadata": {},
   "outputs": [],
   "source": []
  }
 ],
 "metadata": {
  "author": "Joris",
  "kernelspec": {
   "display_name": "Python 3 (ipykernel)",
   "language": "python",
   "name": "python3"
  },
  "language_info": {
   "codemirror_mode": {
    "name": "ipython",
    "version": 3
   },
   "file_extension": ".py",
   "mimetype": "text/x-python",
   "name": "python",
   "nbconvert_exporter": "python",
   "pygments_lexer": "ipython3",
   "version": "3.10.12"
  },
  "latex_envs": {
   "LaTeX_envs_menu_present": true,
   "autoclose": false,
   "autocomplete": true,
   "bibliofile": "biblio.bib",
   "cite_by": "apalike",
   "current_citInitial": 1,
   "eqLabelWithNumbers": true,
   "eqNumInitial": 1,
   "hotkeys": {
    "equation": "Ctrl-E",
    "itemize": "Ctrl-I"
   },
   "labels_anchors": false,
   "latex_user_defs": false,
   "report_style_numbering": false,
   "user_envs_cfg": false
  },
  "toc": {
   "base_numbering": 1,
   "nav_menu": {},
   "number_sections": true,
   "sideBar": true,
   "skip_h1_title": false,
   "title_cell": "Table of Contents",
   "title_sidebar": "Contents",
   "toc_cell": false,
   "toc_position": {},
   "toc_section_display": true,
   "toc_window_display": false
  },
  "varInspector": {
   "cols": {
    "lenName": 16,
    "lenType": 16,
    "lenVar": 40
   },
   "kernels_config": {
    "python": {
     "delete_cmd_postfix": "",
     "delete_cmd_prefix": "del ",
     "library": "var_list.py",
     "varRefreshCmd": "print(var_dic_list())"
    },
    "r": {
     "delete_cmd_postfix": ") ",
     "delete_cmd_prefix": "rm(",
     "library": "var_list.r",
     "varRefreshCmd": "cat(var_dic_list()) "
    }
   },
   "types_to_exclude": [
    "module",
    "function",
    "builtin_function_or_method",
    "instance",
    "_Feature"
   ],
   "window_display": false
  }
 },
 "nbformat": 4,
 "nbformat_minor": 4
}
