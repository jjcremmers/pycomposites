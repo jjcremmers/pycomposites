{
 "cells": [
  {
   "cell_type": "markdown",
   "metadata": {},
   "source": [
    "This is the Python code of Example 3.7 in the book:\n",
    "\n",
    "FIBER-REINFORCED COMPOSITES\n",
    "Materials, Manufacturing, and Design\n",
    "\n",
    "by: P.K. Mallick (2008) by Taylor & Francis Group, LLC\n",
    "\n",
    "This code:\n",
    "(C) Joris Remmers (2013-2019)\n"
   ]
  },
  {
   "cell_type": "markdown",
   "metadata": {},
   "source": [
    "## Example 3.7"
   ]
  },
  {
   "cell_type": "markdown",
   "metadata": {},
   "source": [
    "Determine [A], [B], and [D] matrices for :\n",
    "* (a) a [+45/-45] angle-ply laminate, \n",
    "* (b) a [+45/-45]S symmetric laminate, and \n",
    "* (c) a [+45/0/-45] unsymmetric laminate.\n",
    "\n",
    "Each lamina is 6 mm thick and contains 60 vol% of T-300 carbon fiber in an epoxy matrix. Use the same material properties as in Example 3.6."
   ]
  },
  {
   "cell_type": "markdown",
   "metadata": {},
   "source": [
    "## Solution\n",
    "\n",
    "Import the correct functions from the composite module:"
   ]
  },
  {
   "cell_type": "code",
   "execution_count": 1,
   "metadata": {},
   "outputs": [],
   "source": [
    "from composite import TransverseIsotropic,mixMaterials,Laminate\n",
    "from numpy     import array,dot"
   ]
  },
  {
   "cell_type": "markdown",
   "metadata": {},
   "source": [
    "For this carbon fiber composite material, the carbon fibers and the epoxy matrix are modelled as separate transversely isotropic materials. The T300 carbon fibers have Young's Moduli $E_1=220\\,$GPa, $E_2=220\\,$GPa, a Poisson's ratio $\\nu_{12}=0.2$ and a Shear Modulus  $G_{12}=91.7\\,$GPa. \n",
    "The epoxy matrix may be considered isotropic with Young's modulus $E=3.6\\,$GPa,Poisson's ratio $\\nu=0.35$ and Shear Modulus  $G_{12}=1.33\\,$GPa. \n",
    "As demonstrated in Example 3.6, the ply properties can be obtained as: "
   ]
  },
  {
   "cell_type": "code",
   "execution_count": 2,
   "metadata": {},
   "outputs": [
    {
     "name": "stdout",
     "output_type": "stream",
     "text": [
      "Material properties of the composite material:\n",
      "\n",
      "   Elastic Properties:\n",
      "  -----------------------------------------------------------\n",
      "  E1     :     1.334e+11 , E2     :     8.784e+09 \n",
      "  nu12   :          0.26 , G12    :     3.254e+09 \n",
      "\n",
      "  Thermal expansion coefficients:\n",
      "  -----------------------------------------------------------\n",
      "  alpha1 :     0.000e+00 , alpha2 :     0.000e+00 \n",
      " \n",
      "\n"
     ]
    }
   ],
   "source": [
    "carbon = TransverseIsotropic( 220e9,0.2,91.7e9)\n",
    "epoxy  = TransverseIsotropic( 3.6e9,0.35,1.33e9)\n",
    "\n",
    "compmat = mixMaterials( carbon , epoxy , 0.6 )\n",
    "\n",
    "print(\"Material properties of the composite material:\\n\\n\",compmat,\"\\n\")"
   ]
  },
  {
   "cell_type": "markdown",
   "metadata": {},
   "source": [
    "Now we can construct a laminate out of different laminae with these single ply properties. For a a [+45/-45] angle-ply laminate with 6mm layer thickness, this can be done as:"
   ]
  },
  {
   "cell_type": "code",
   "execution_count": 3,
   "metadata": {},
   "outputs": [],
   "source": [
    "lam = Laminate()\n",
    "\n",
    "lam.addMaterial( 'composite' , compmat )\n",
    "\n",
    "lam.addLayer( 'composite' , 45. , 6e-3 )\n",
    "lam.addLayer( 'composite' , -45. , 6e-3 )"
   ]
  },
  {
   "cell_type": "markdown",
   "metadata": {},
   "source": [
    "Using the functions getA, getB and getD, the for this laminate can be calculated:"
   ]
  },
  {
   "cell_type": "code",
   "execution_count": 4,
   "metadata": {},
   "outputs": [
    {
     "name": "stdout",
     "output_type": "stream",
     "text": [
      "Laminate [45/-45]\n",
      "\n",
      "A matrix:\n",
      "\n",
      " [[4.81395708e+08 4.03294849e+08 0.00000000e+00]\n",
      " [4.03294849e+08 4.81395708e+08 0.00000000e+00]\n",
      " [0.00000000e+00 0.00000000e+00 4.14815492e+08]] \n",
      "\n",
      "B matrix:\n",
      "\n",
      " [[       0.               0.        -1126915.4616971]\n",
      " [       0.               0.        -1126915.4616971]\n",
      " [-1126915.4616971 -1126915.4616971        0.       ]] \n",
      "\n",
      "D matrix:\n",
      "\n",
      " [[5776.74849698 4839.53818693    0.        ]\n",
      " [4839.53818693 5776.74849698    0.        ]\n",
      " [   0.            0.         4977.78589951]] \n",
      "\n"
     ]
    }
   ],
   "source": [
    "print(\"Laminate [45/-45]\\n\")\n",
    "print(\"A matrix:\\n\\n\",lam.getA(),\"\\n\")\n",
    "print(\"B matrix:\\n\\n\",lam.getB(),\"\\n\")\n",
    "print(\"D matrix:\\n\\n\",lam.getD(),\"\\n\")"
   ]
  },
  {
   "cell_type": "markdown",
   "metadata": {},
   "source": [
    "This procedure can be repeated for the [+45/-45]S symmetric, and \n",
    " [+45/0/-45] unsymmetric laminate:"
   ]
  },
  {
   "cell_type": "code",
   "execution_count": 5,
   "metadata": {},
   "outputs": [
    {
     "name": "stdout",
     "output_type": "stream",
     "text": [
      "Laminate [45/-45]s\n",
      "\n",
      "A matrix:\n",
      "\n",
      " [[ 9.62791416e+08  8.06589698e+08 -1.19209290e-07]\n",
      " [ 8.06589698e+08  9.62791416e+08 -1.19209290e-07]\n",
      " [-1.19209290e-07 -1.19209290e-07  8.29630983e+08]] \n",
      "\n",
      "B matrix:\n",
      "\n",
      " [[ 4.65661287e-10  2.32830644e-10 -4.65661287e-10]\n",
      " [ 2.32830644e-10  4.65661287e-10 -2.32830644e-10]\n",
      " [-4.65661287e-10 -2.32830644e-10  2.32830644e-10]] \n",
      "\n",
      "D matrix:\n",
      "\n",
      " [[46213.98797583 38716.30549544 27045.97108073]\n",
      " [38716.30549544 46213.98797583 27045.97108073]\n",
      " [27045.97108073 27045.97108073 39822.28719604]] \n",
      "\n",
      "Laminate [45/0/-45]s\n",
      "\n",
      "A matrix:\n",
      "\n",
      " [[ 1.28561458e+09  4.17059742e+08 -5.96046448e-08]\n",
      " [ 4.17059742e+08  5.34337606e+08 -5.96046448e-08]\n",
      " [-5.96046448e-08 -5.96046448e-08  4.34340706e+08]] \n",
      "\n",
      "B matrix:\n",
      "\n",
      " [[-6.98491931e-10  0.00000000e+00 -2.25383092e+06]\n",
      " [ 0.00000000e+00  0.00000000e+00 -2.25383092e+06]\n",
      " [-2.25383092e+06 -2.25383092e+06  0.00000000e+00]] \n",
      "\n",
      "D matrix:\n",
      "\n",
      " [[21187.08923206 15769.79378783     0.        ]\n",
      " [15769.79378783 18933.25830867     0.        ]\n",
      " [    0.             0.         16236.37981777]] \n",
      "\n"
     ]
    }
   ],
   "source": [
    "lam.removeAllLayers()\n",
    "\n",
    "lam = Laminate()\n",
    "\n",
    "lam.addMaterial( 'composite' , compmat )\n",
    "\n",
    "lam.addLayer( 'composite' , 45. , 6e-3 )\n",
    "lam.addLayer( 'composite' , -45. , 6e-3 )\n",
    "lam.addLayer( 'composite' , -45. , 6e-3 )\n",
    "lam.addLayer( 'composite' , 45. , 6e-3 )\n",
    "\n",
    "print(\"Laminate [45/-45]s\\n\")\n",
    "print(\"A matrix:\\n\\n\",lam.getA(),\"\\n\")\n",
    "print(\"B matrix:\\n\\n\",lam.getB(),\"\\n\")\n",
    "print(\"D matrix:\\n\\n\",lam.getD(),\"\\n\")\n",
    "\n",
    "lam.removeAllLayers()\n",
    "\n",
    "lam = Laminate()\n",
    "\n",
    "lam.addMaterial( 'composite' , compmat )\n",
    "\n",
    "lam.addLayer( 'composite' , 45. , 6e-3 )\n",
    "lam.addLayer( 'composite' , 0. , 6e-3 )\n",
    "lam.addLayer( 'composite' , -45. , 6e-3 )\n",
    "\n",
    "print(\"Laminate [45/0/-45]s\\n\")\n",
    "print(\"A matrix:\\n\\n\",lam.getA(),\"\\n\")\n",
    "print(\"B matrix:\\n\\n\",lam.getB(),\"\\n\")\n",
    "print(\"D matrix:\\n\\n\",lam.getD(),\"\\n\")\n"
   ]
  },
  {
   "cell_type": "code",
   "execution_count": null,
   "metadata": {},
   "outputs": [],
   "source": []
  },
  {
   "cell_type": "code",
   "execution_count": null,
   "metadata": {},
   "outputs": [],
   "source": []
  }
 ],
 "metadata": {
  "kernelspec": {
   "display_name": "Python 3",
   "language": "python",
   "name": "python3"
  },
  "language_info": {
   "codemirror_mode": {
    "name": "ipython",
    "version": 3
   },
   "file_extension": ".py",
   "mimetype": "text/x-python",
   "name": "python",
   "nbconvert_exporter": "python",
   "pygments_lexer": "ipython3",
   "version": "3.7.3"
  }
 },
 "nbformat": 4,
 "nbformat_minor": 2
}
