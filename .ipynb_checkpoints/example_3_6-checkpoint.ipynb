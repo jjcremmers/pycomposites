{
 "cells": [
  {
   "cell_type": "markdown",
   "metadata": {},
   "source": [
    "This is the Python code of Example 3.6 in the book:\n",
    "\n",
    "FIBER-REINFORCED COMPOSITES\n",
    "Materials, Manufacturing, and Design\n",
    "\n",
    "by: P.K. Mallick (2008) by Taylor & Francis Group, LLC\n",
    "\n",
    "This code:\n",
    "(C) Joris Remmers (2013-2019)"
   ]
  },
  {
   "cell_type": "markdown",
   "metadata": {},
   "source": [
    "## Example 3.6\n",
    "\n",
    "Determine the elements in the stiffness matrix for an angle-ply lamina containing 60 vol% of T-300 carbon fibers in an epoxy matrix. Consider fiber orientation angles of both $ +45^\\circ $ and $-45^\\circ$ for the fiber, $E_f  = 220$GPa and $\\nu_f = 0.2$, and for the matrix, $E_m = 3.6$ GPa and $\\nu_m = 0.35$."
   ]
  },
  {
   "cell_type": "markdown",
   "metadata": {},
   "source": [
    "## Solution\n",
    "\n",
    "Import the correct functions from the composite module:"
   ]
  },
  {
   "cell_type": "code",
   "execution_count": 6,
   "metadata": {},
   "outputs": [],
   "source": [
    "from composite import TransverseIsotropic,mixMaterials\n",
    "from numpy import array,dot"
   ]
  },
  {
   "cell_type": "markdown",
   "metadata": {},
   "source": [
    "For this carbon fiber composite material, the carbon fibers and the epoxy matrix are modelled as separate transversely isotropic materials. The T300 carbon fibers have Young's Moduli  𝐸1=220 GPa,  𝐸2=220 GPa, a Poisson's ratio  𝜈12=0.2  and a Shear Modulus  𝐺12=91.7 GPa. The epoxy matrix may be considered isotropic with Young's modulus  𝐸=3.6 GPa,Poisson's ratio  𝜈=0.35  and Shear Modulus  𝐺12=1.33 GPa"
   ]
  },
  {
   "cell_type": "code",
   "execution_count": 8,
   "metadata": {},
   "outputs": [
    {
     "name": "stdout",
     "output_type": "stream",
     "text": [
      "Material properties of the composite material:\n",
      "\n",
      "   Elastic Properties:\n",
      "  -----------------------------------------------------------\n",
      "  E1     :     1.334e+11 , E2     :     8.784e+09 \n",
      "  nu12   :          0.26 , G12    :     3.254e+09 \n",
      "\n",
      "  Thermal expansion coefficients:\n",
      "  -----------------------------------------------------------\n",
      "  alpha1 :     0.000e+00 , alpha2 :     0.000e+00 \n",
      " \n",
      "\n"
     ]
    }
   ],
   "source": [
    "carbon = TransverseIsotropic( 220e9,0.2,91.7e9)\n",
    "epoxy  = TransverseIsotropic( 3.6e9,0.35,1.33e9)\n",
    "\n",
    "compmat = mixMaterials( carbon , epoxy , 0.6 )\n",
    "\n",
    "print(\"Material properties of the composite material:\\n\\n\",compmat,\"\\n\")"
   ]
  },
  {
   "cell_type": "markdown",
   "metadata": {},
   "source": [
    "The stiffnessmatrix $\\bar{Q}$ for a $0^{\\circ}$ layer can be calculated with:"
   ]
  },
  {
   "cell_type": "code",
   "execution_count": null,
   "metadata": {},
   "outputs": [],
   "source": [
    "compmat.getQ()"
   ]
  },
  {
   "cell_type": "markdown",
   "metadata": {},
   "source": [
    "Filling in the desired angle in the argument of the getQbar function yields the stiffnessmatrix $\\bar{Q}$ for the desired ply angle:"
   ]
  },
  {
   "cell_type": "code",
   "execution_count": 9,
   "metadata": {},
   "outputs": [
    {
     "data": {
      "text/plain": [
       "array([[4.01163090e+10, 3.36079041e+10, 3.13032073e+10],\n",
       "       [3.36079041e+10, 4.01163090e+10, 3.13032073e+10],\n",
       "       [3.13032073e+10, 3.13032073e+10, 3.45679576e+10]])"
      ]
     },
     "execution_count": 9,
     "metadata": {},
     "output_type": "execute_result"
    }
   ],
   "source": [
    "compmat.getQbar( 45. )"
   ]
  },
  {
   "cell_type": "code",
   "execution_count": 10,
   "metadata": {},
   "outputs": [
    {
     "data": {
      "text/plain": [
       "array([[ 4.01163090e+10,  3.36079041e+10, -3.13032073e+10],\n",
       "       [ 3.36079041e+10,  4.01163090e+10, -3.13032073e+10],\n",
       "       [-3.13032073e+10, -3.13032073e+10,  3.45679576e+10]])"
      ]
     },
     "execution_count": 10,
     "metadata": {},
     "output_type": "execute_result"
    }
   ],
   "source": [
    "compmat.getQbar( -45. )"
   ]
  },
  {
   "cell_type": "code",
   "execution_count": null,
   "metadata": {},
   "outputs": [],
   "source": []
  }
 ],
 "metadata": {
  "kernelspec": {
   "display_name": "Python 3",
   "language": "python",
   "name": "python3"
  },
  "language_info": {
   "codemirror_mode": {
    "name": "ipython",
    "version": 3
   },
   "file_extension": ".py",
   "mimetype": "text/x-python",
   "name": "python",
   "nbconvert_exporter": "python",
   "pygments_lexer": "ipython3",
   "version": "3.7.3"
  }
 },
 "nbformat": 4,
 "nbformat_minor": 2
}
